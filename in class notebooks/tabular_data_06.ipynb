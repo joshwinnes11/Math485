{
 "cells": [
  {
   "cell_type": "markdown",
   "metadata": {},
   "source": [
    "### call utility functions to get the analysis file"
   ]
  },
  {
   "cell_type": "code",
   "execution_count": 3,
   "metadata": {},
   "outputs": [
    {
     "name": "stderr",
     "output_type": "stream",
     "text": [
      "/Users/joshwinnes/Library/Mobile Documents/com~apple~CloudDocs/Wheaton College/fall 2024/topics in data science/Math485/packages/dhs_util.py:42: FutureWarning: The default of observed=False is deprecated and will be changed to True in a future version of pandas. Pass observed=False to retain current behavior or observed=True to adopt the future default and silence this warning.\n",
      "  recipient = df.groupby(df['id'].cat.remove_unused_categories()).agg(\n"
     ]
    }
   ],
   "source": [
    "import pandas as pd\n",
    "import numpy as np\n",
    "import matplotlib.pyplot as plt\n",
    "import seaborn as sns\n",
    "import os\n",
    "\n",
    "import sys\n",
    "script_directory = '/Users/joshwinnes/Library/Mobile Documents/com~apple~CloudDocs/Wheaton College/fall 2024/topics in data science/Math485/packages'\n",
    "sys.path.append(script_directory)\n",
    "import dhs_util\n",
    "from dhs_util import *\n",
    "\n",
    "os.chdir('/Users/joshwinnes/Library/Mobile Documents/com~apple~CloudDocs/Wheaton College/fall 2024/topics in data science/data')\n",
    "df = pd.read_csv('dhs_service_records_synthesized_final.csv')\n",
    "\n",
    "df = dhs_preprocessing(df)\n",
    "df, service_map = add_service_label(df)\n",
    "df = add_age_bin(df)\n",
    "\n",
    "recipient = get_recipient_attribute(df)"
   ]
  },
  {
   "cell_type": "code",
   "execution_count": 7,
   "metadata": {},
   "outputs": [
    {
     "name": "stdout",
     "output_type": "stream",
     "text": [
      "(7116134, 12)\n"
     ]
    },
    {
     "data": {
      "text/html": [
       "<div>\n",
       "<style scoped>\n",
       "    .dataframe tbody tr th:only-of-type {\n",
       "        vertical-align: middle;\n",
       "    }\n",
       "\n",
       "    .dataframe tbody tr th {\n",
       "        vertical-align: top;\n",
       "    }\n",
       "\n",
       "    .dataframe thead th {\n",
       "        text-align: right;\n",
       "    }\n",
       "</style>\n",
       "<table border=\"1\" class=\"dataframe\">\n",
       "  <thead>\n",
       "    <tr style=\"text-align: right;\">\n",
       "      <th></th>\n",
       "      <th>id</th>\n",
       "      <th>date</th>\n",
       "      <th>service</th>\n",
       "      <th>age</th>\n",
       "      <th>gender</th>\n",
       "      <th>race</th>\n",
       "      <th>ethnicity</th>\n",
       "      <th>marital</th>\n",
       "      <th>education</th>\n",
       "      <th>month</th>\n",
       "      <th>serv</th>\n",
       "      <th>age_bin</th>\n",
       "    </tr>\n",
       "  </thead>\n",
       "  <tbody>\n",
       "    <tr>\n",
       "      <th>0</th>\n",
       "      <td>1626</td>\n",
       "      <td>2021-01-31</td>\n",
       "      <td>Children_Attending_Early_Childhood_Programs_Ma...</td>\n",
       "      <td>5</td>\n",
       "      <td>1~Male</td>\n",
       "      <td>1~White</td>\n",
       "      <td>99~Unknown</td>\n",
       "      <td>99~Unknown</td>\n",
       "      <td>9-12~High School (grade 9-12)</td>\n",
       "      <td>January</td>\n",
       "      <td>S01</td>\n",
       "      <td>0-9</td>\n",
       "    </tr>\n",
       "    <tr>\n",
       "      <th>1</th>\n",
       "      <td>1626</td>\n",
       "      <td>2021-02-28</td>\n",
       "      <td>Children_Attending_Early_Childhood_Programs_Ma...</td>\n",
       "      <td>5</td>\n",
       "      <td>1~Male</td>\n",
       "      <td>1~White</td>\n",
       "      <td>99~Unknown</td>\n",
       "      <td>99~Unknown</td>\n",
       "      <td>9-12~High School (grade 9-12)</td>\n",
       "      <td>February</td>\n",
       "      <td>S01</td>\n",
       "      <td>0-9</td>\n",
       "    </tr>\n",
       "    <tr>\n",
       "      <th>2</th>\n",
       "      <td>1626</td>\n",
       "      <td>2021-03-31</td>\n",
       "      <td>Children_Attending_Early_Childhood_Programs_Ma...</td>\n",
       "      <td>5</td>\n",
       "      <td>1~Male</td>\n",
       "      <td>1~White</td>\n",
       "      <td>99~Unknown</td>\n",
       "      <td>99~Unknown</td>\n",
       "      <td>9-12~High School (grade 9-12)</td>\n",
       "      <td>March</td>\n",
       "      <td>S01</td>\n",
       "      <td>0-9</td>\n",
       "    </tr>\n",
       "    <tr>\n",
       "      <th>3</th>\n",
       "      <td>1626</td>\n",
       "      <td>2021-04-30</td>\n",
       "      <td>Children_Attending_Early_Childhood_Programs_Ma...</td>\n",
       "      <td>5</td>\n",
       "      <td>1~Male</td>\n",
       "      <td>1~White</td>\n",
       "      <td>99~Unknown</td>\n",
       "      <td>99~Unknown</td>\n",
       "      <td>9-12~High School (grade 9-12)</td>\n",
       "      <td>April</td>\n",
       "      <td>S01</td>\n",
       "      <td>0-9</td>\n",
       "    </tr>\n",
       "    <tr>\n",
       "      <th>4</th>\n",
       "      <td>1626</td>\n",
       "      <td>2021-05-31</td>\n",
       "      <td>Children_Attending_Early_Childhood_Programs_Ma...</td>\n",
       "      <td>5</td>\n",
       "      <td>1~Male</td>\n",
       "      <td>1~White</td>\n",
       "      <td>99~Unknown</td>\n",
       "      <td>99~Unknown</td>\n",
       "      <td>9-12~High School (grade 9-12)</td>\n",
       "      <td>May</td>\n",
       "      <td>S01</td>\n",
       "      <td>0-9</td>\n",
       "    </tr>\n",
       "  </tbody>\n",
       "</table>\n",
       "</div>"
      ],
      "text/plain": [
       "     id       date                                            service  age  \\\n",
       "0  1626 2021-01-31  Children_Attending_Early_Childhood_Programs_Ma...    5   \n",
       "1  1626 2021-02-28  Children_Attending_Early_Childhood_Programs_Ma...    5   \n",
       "2  1626 2021-03-31  Children_Attending_Early_Childhood_Programs_Ma...    5   \n",
       "3  1626 2021-04-30  Children_Attending_Early_Childhood_Programs_Ma...    5   \n",
       "4  1626 2021-05-31  Children_Attending_Early_Childhood_Programs_Ma...    5   \n",
       "\n",
       "   gender     race   ethnicity     marital                      education  \\\n",
       "0  1~Male  1~White  99~Unknown  99~Unknown  9-12~High School (grade 9-12)   \n",
       "1  1~Male  1~White  99~Unknown  99~Unknown  9-12~High School (grade 9-12)   \n",
       "2  1~Male  1~White  99~Unknown  99~Unknown  9-12~High School (grade 9-12)   \n",
       "3  1~Male  1~White  99~Unknown  99~Unknown  9-12~High School (grade 9-12)   \n",
       "4  1~Male  1~White  99~Unknown  99~Unknown  9-12~High School (grade 9-12)   \n",
       "\n",
       "      month serv age_bin  \n",
       "0   January  S01     0-9  \n",
       "1  February  S01     0-9  \n",
       "2     March  S01     0-9  \n",
       "3     April  S01     0-9  \n",
       "4       May  S01     0-9  "
      ]
     },
     "execution_count": 7,
     "metadata": {},
     "output_type": "execute_result"
    }
   ],
   "source": [
    "print(df.shape)\n",
    "df.head()"
   ]
  },
  {
   "cell_type": "code",
   "execution_count": 8,
   "metadata": {},
   "outputs": [
    {
     "name": "stdout",
     "output_type": "stream",
     "text": [
      "(533799, 15)\n"
     ]
    },
    {
     "data": {
      "text/html": [
       "<div>\n",
       "<style scoped>\n",
       "    .dataframe tbody tr th:only-of-type {\n",
       "        vertical-align: middle;\n",
       "    }\n",
       "\n",
       "    .dataframe tbody tr th {\n",
       "        vertical-align: top;\n",
       "    }\n",
       "\n",
       "    .dataframe thead th {\n",
       "        text-align: right;\n",
       "    }\n",
       "</style>\n",
       "<table border=\"1\" class=\"dataframe\">\n",
       "  <thead>\n",
       "    <tr style=\"text-align: right;\">\n",
       "      <th></th>\n",
       "      <th>id</th>\n",
       "      <th>num_service</th>\n",
       "      <th>distinct_service</th>\n",
       "      <th>first_date</th>\n",
       "      <th>last_date</th>\n",
       "      <th>num_month</th>\n",
       "      <th>distinct_month</th>\n",
       "      <th>age</th>\n",
       "      <th>gender</th>\n",
       "      <th>race</th>\n",
       "      <th>ethnicity</th>\n",
       "      <th>marital</th>\n",
       "      <th>education</th>\n",
       "      <th>serv</th>\n",
       "      <th>age_bin</th>\n",
       "    </tr>\n",
       "  </thead>\n",
       "  <tbody>\n",
       "    <tr>\n",
       "      <th>0</th>\n",
       "      <td>1</td>\n",
       "      <td>12</td>\n",
       "      <td>1</td>\n",
       "      <td>2021-01-31</td>\n",
       "      <td>2021-12-31</td>\n",
       "      <td>12</td>\n",
       "      <td>12</td>\n",
       "      <td>13</td>\n",
       "      <td>1~Male</td>\n",
       "      <td>99~Unknown</td>\n",
       "      <td>2~Not Hispanic/Latinx</td>\n",
       "      <td>99~Unknown</td>\n",
       "      <td>GED~High School Diploma/GED Completed</td>\n",
       "      <td>S12</td>\n",
       "      <td>10-19</td>\n",
       "    </tr>\n",
       "    <tr>\n",
       "      <th>12</th>\n",
       "      <td>2</td>\n",
       "      <td>1</td>\n",
       "      <td>1</td>\n",
       "      <td>2021-02-28</td>\n",
       "      <td>2021-02-28</td>\n",
       "      <td>1</td>\n",
       "      <td>1</td>\n",
       "      <td>70</td>\n",
       "      <td>2~Female</td>\n",
       "      <td>1~White</td>\n",
       "      <td>2~Not Hispanic/Latinx</td>\n",
       "      <td>2~Married</td>\n",
       "      <td>99~Unknown</td>\n",
       "      <td>S12</td>\n",
       "      <td>70-79</td>\n",
       "    </tr>\n",
       "    <tr>\n",
       "      <th>13</th>\n",
       "      <td>3</td>\n",
       "      <td>11</td>\n",
       "      <td>1</td>\n",
       "      <td>2021-02-28</td>\n",
       "      <td>2021-12-31</td>\n",
       "      <td>11</td>\n",
       "      <td>11</td>\n",
       "      <td>29</td>\n",
       "      <td>2~Female</td>\n",
       "      <td>1~White</td>\n",
       "      <td>2~Not Hispanic/Latinx</td>\n",
       "      <td>2~Married</td>\n",
       "      <td>9-12~High School (grade 9-12)</td>\n",
       "      <td>S12</td>\n",
       "      <td>20-29</td>\n",
       "    </tr>\n",
       "    <tr>\n",
       "      <th>24</th>\n",
       "      <td>4</td>\n",
       "      <td>4</td>\n",
       "      <td>1</td>\n",
       "      <td>2021-03-31</td>\n",
       "      <td>2021-12-31</td>\n",
       "      <td>4</td>\n",
       "      <td>4</td>\n",
       "      <td>4</td>\n",
       "      <td>2~Female</td>\n",
       "      <td>1~White</td>\n",
       "      <td>2~Not Hispanic/Latinx</td>\n",
       "      <td>1~Single-Never Married</td>\n",
       "      <td>9-12~High School (grade 9-12)</td>\n",
       "      <td>S12</td>\n",
       "      <td>0-9</td>\n",
       "    </tr>\n",
       "    <tr>\n",
       "      <th>28</th>\n",
       "      <td>5</td>\n",
       "      <td>12</td>\n",
       "      <td>1</td>\n",
       "      <td>2021-01-31</td>\n",
       "      <td>2021-12-31</td>\n",
       "      <td>12</td>\n",
       "      <td>12</td>\n",
       "      <td>40</td>\n",
       "      <td>1~Male</td>\n",
       "      <td>2~Black/African American</td>\n",
       "      <td>2~Not Hispanic/Latinx</td>\n",
       "      <td>2~Married</td>\n",
       "      <td>UNDERGRAD~Some College</td>\n",
       "      <td>S12</td>\n",
       "      <td>40-49</td>\n",
       "    </tr>\n",
       "  </tbody>\n",
       "</table>\n",
       "</div>"
      ],
      "text/plain": [
       "   id  num_service  distinct_service first_date  last_date  num_month  \\\n",
       "0   1           12                 1 2021-01-31 2021-12-31         12   \n",
       "12  2            1                 1 2021-02-28 2021-02-28          1   \n",
       "13  3           11                 1 2021-02-28 2021-12-31         11   \n",
       "24  4            4                 1 2021-03-31 2021-12-31          4   \n",
       "28  5           12                 1 2021-01-31 2021-12-31         12   \n",
       "\n",
       "    distinct_month  age    gender                      race  \\\n",
       "0               12   13    1~Male                99~Unknown   \n",
       "12               1   70  2~Female                   1~White   \n",
       "13              11   29  2~Female                   1~White   \n",
       "24               4    4  2~Female                   1~White   \n",
       "28              12   40    1~Male  2~Black/African American   \n",
       "\n",
       "                ethnicity                 marital  \\\n",
       "0   2~Not Hispanic/Latinx              99~Unknown   \n",
       "12  2~Not Hispanic/Latinx               2~Married   \n",
       "13  2~Not Hispanic/Latinx               2~Married   \n",
       "24  2~Not Hispanic/Latinx  1~Single-Never Married   \n",
       "28  2~Not Hispanic/Latinx               2~Married   \n",
       "\n",
       "                                education serv age_bin  \n",
       "0   GED~High School Diploma/GED Completed  S12   10-19  \n",
       "12                             99~Unknown  S12   70-79  \n",
       "13          9-12~High School (grade 9-12)  S12   20-29  \n",
       "24          9-12~High School (grade 9-12)  S12     0-9  \n",
       "28                 UNDERGRAD~Some College  S12   40-49  "
      ]
     },
     "execution_count": 8,
     "metadata": {},
     "output_type": "execute_result"
    }
   ],
   "source": [
    "print(recipient.shape)\n",
    "recipient.head()"
   ]
  },
  {
   "cell_type": "code",
   "execution_count": null,
   "metadata": {},
   "outputs": [],
   "source": [
    "df.date.unique()"
   ]
  },
  {
   "cell_type": "markdown",
   "metadata": {},
   "source": [
    "## In class exercises\n",
    "Answer the following questions:\n",
    " - \n",
    " - do the number of services per recipient increase over time?  - What else can you observe from the data?"
   ]
  },
  {
   "cell_type": "code",
   "execution_count": null,
   "metadata": {},
   "outputs": [],
   "source": [
    "serv_data = []\n",
    "for groups in df.groupby('id').groups.values():\n",
    "    serv_data.append(df.loc[groups]['serv'].tolist())\n",
    "serv_data[:10]"
   ]
  },
  {
   "cell_type": "code",
   "execution_count": null,
   "metadata": {},
   "outputs": [],
   "source": [
    "serv_data[:10]"
   ]
  },
  {
   "cell_type": "markdown",
   "metadata": {},
   "source": [
    "* another way to do the same"
   ]
  },
  {
   "cell_type": "code",
   "execution_count": null,
   "metadata": {},
   "outputs": [],
   "source": [
    "serv_data_n = []\n",
    "for groups in df.groupby('id').groups.values():\n",
    "    serv_data_n.append(list(df.loc[groups]['serv'].to_numpy()))\n",
    "serv_data_n[:10]\n"
   ]
  },
  {
   "cell_type": "markdown",
   "metadata": {},
   "source": [
    "* check equality"
   ]
  },
  {
   "cell_type": "code",
   "execution_count": null,
   "metadata": {},
   "outputs": [],
   "source": [
    "serv_data == serv_data_n"
   ]
  },
  {
   "cell_type": "markdown",
   "metadata": {},
   "source": [
    "### use mlxtend package"
   ]
  },
  {
   "cell_type": "code",
   "execution_count": null,
   "metadata": {},
   "outputs": [],
   "source": [
    "from mlxtend.preprocessing import TransactionEncoder\n",
    "from mlxtend.preprocessing import *\n",
    "from mlxtend.frequent_patterns import association_rules\n",
    "from mlxtend.frequent_patterns import fpgrowth\n",
    "from mlxtend.frequent_patterns import apriori\n",
    "from mlxtend.frequent_patterns import fpmax\n",
    "\n",
    "def oneHotCoding(serv_data):\n",
    "    te = TransactionEncoder()\n",
    "    te_ary = te.fit(serv_data).transform(serv_data)\n",
    "    te_df = pd.DataFrame(te_ary, columns=te.columns_)\n",
    "    return te_df\n",
    "\n",
    "serv_oneHot = oneHotCoding(serv_data)"
   ]
  },
  {
   "cell_type": "code",
   "execution_count": null,
   "metadata": {},
   "outputs": [],
   "source": [
    "serv_oneHot"
   ]
  },
  {
   "cell_type": "markdown",
   "metadata": {},
   "source": [
    "* we have done something like this earlier, recall? "
   ]
  },
  {
   "cell_type": "code",
   "execution_count": null,
   "metadata": {},
   "outputs": [],
   "source": [
    "apriori(serv_oneHot, min_support=0.018) "
   ]
  },
  {
   "cell_type": "code",
   "execution_count": null,
   "metadata": {},
   "outputs": [],
   "source": [
    "min_freq = 1000\n",
    "min_support = min_freq/serv_oneHot.shape[0]\n",
    "min_confidence = 0.6\n",
    "min_rule_support = 0.2\n",
    "min_lift = 0.15"
   ]
  },
  {
   "cell_type": "code",
   "execution_count": null,
   "metadata": {},
   "outputs": [],
   "source": [
    "apriori(serv_oneHot, min_support=min_support)"
   ]
  },
  {
   "cell_type": "code",
   "execution_count": null,
   "metadata": {},
   "outputs": [],
   "source": [
    "freq_itemsets_apriori = apriori(serv_oneHot,min_support=min_support,use_colnames=True)\n",
    "freq_itemsets_apriori.describe()"
   ]
  },
  {
   "cell_type": "code",
   "execution_count": null,
   "metadata": {},
   "outputs": [],
   "source": [
    "freq_itemsets_fpgrowth = fpgrowth(serv_oneHot,min_support=min_support,use_colnames=True)\n",
    "freq_itemsets_fpgrowth.describe()"
   ]
  },
  {
   "cell_type": "code",
   "execution_count": null,
   "metadata": {},
   "outputs": [],
   "source": [
    "freq_itemsets_fpmax = fpmax(serv_oneHot,min_support=min_support,use_colnames=True)\n",
    "freq_itemsets_fpmax.describe()"
   ]
  },
  {
   "cell_type": "code",
   "execution_count": null,
   "metadata": {},
   "outputs": [],
   "source": [
    "# compute and print the association rules\n",
    "def serv_rules(freq_itemsets,metrics,threshold):\n",
    "    asso_rules = association_rules(freq_itemsets, metric=metrics, min_threshold=threshold)\n",
    "    return asso_rules.sort_values(by='lift', ascending=False)[['antecedents', 'consequents', 'support', 'confidence', 'lift']]\n",
    "\n",
    "rules_apriori = serv_rules(freq_itemsets_apriori,\"confidence\",0.60)\n",
    "rules_fpgrowth = serv_rules(freq_itemsets_fpgrowth,\"confidence\",0.60)"
   ]
  },
  {
   "cell_type": "code",
   "execution_count": null,
   "metadata": {},
   "outputs": [],
   "source": [
    "rules_fpgrowth"
   ]
  },
  {
   "cell_type": "code",
   "execution_count": null,
   "metadata": {},
   "outputs": [],
   "source": [
    "def predict(antecedent, rules, consequents_only = False):\n",
    "    \n",
    "    # get the rules for this antecedent\n",
    "    preds = rules[rules['antecedents'] == antecedent]\n",
    "    if consequents_only:\n",
    "        # a way to convert a frozen set with one element to string\n",
    "        preds = preds['consequents'].apply(iter).apply(next)\n",
    "    return preds"
   ]
  },
  {
   "cell_type": "code",
   "execution_count": null,
   "metadata": {},
   "outputs": [],
   "source": [
    "rules_fpmax = association_rules(freq_itemsets_fpmax, metric=\"confidence\", min_threshold=0.001, support_only=True)"
   ]
  },
  {
   "cell_type": "code",
   "execution_count": null,
   "metadata": {},
   "outputs": [],
   "source": [
    "predict({\"S09\"}, rules_fpmax, consequents_only=False)\n"
   ]
  },
  {
   "cell_type": "code",
   "execution_count": null,
   "metadata": {},
   "outputs": [],
   "source": [
    "predict({\"S09\"}, rules_fpmax, consequents_only=False)\n"
   ]
  },
  {
   "cell_type": "code",
   "execution_count": null,
   "metadata": {},
   "outputs": [],
   "source": [
    "predict({\"S09\"}, rules_fpgrowth)\n"
   ]
  },
  {
   "cell_type": "code",
   "execution_count": null,
   "metadata": {},
   "outputs": [],
   "source": [
    "len(predict({\"S01\"},rules_fpgrowth))"
   ]
  },
  {
   "cell_type": "code",
   "execution_count": null,
   "metadata": {},
   "outputs": [],
   "source": []
  },
  {
   "cell_type": "code",
   "execution_count": null,
   "metadata": {},
   "outputs": [],
   "source": [
    "serv_list =  ['S'+str(i).zfill(2) for i in range(1,23)]\n",
    "for i in serv_list:\n",
    "    print(i)\n",
    "    if (len(predict({i},rules_fpgrowth))>0):\n",
    "        print(i), print(predict({i},rules_fpgrowth))"
   ]
  },
  {
   "cell_type": "code",
   "execution_count": null,
   "metadata": {},
   "outputs": [],
   "source": [
    "rules_fpgrowth.info()"
   ]
  },
  {
   "cell_type": "code",
   "execution_count": null,
   "metadata": {},
   "outputs": [],
   "source": [
    "rules_fpgrowth.sort_values(\"support\",ascending=False)\n"
   ]
  },
  {
   "cell_type": "code",
   "execution_count": null,
   "metadata": {},
   "outputs": [],
   "source": [
    "df[(df.serv==\"S09\")].merge(df[(df.serv ==\"S12\")], on = \"id\").id.nunique()/df.id.nunique()"
   ]
  },
  {
   "cell_type": "code",
   "execution_count": null,
   "metadata": {},
   "outputs": [],
   "source": [
    "#make a scatterplot between age and number of services in the client_attributes dataset\n",
    "\n",
    "sns.scatterplot(data = df, x = 'age', y = 'race', s = 2)\n",
    "plt.title('Age vs Number of Services')\n",
    "plt.xlabel('Age')\n",
    "plt.ylabel('Number of Services')\n",
    "plt.show()"
   ]
  },
  {
   "cell_type": "code",
   "execution_count": null,
   "metadata": {},
   "outputs": [],
   "source": [
    "import itertools\n",
    "j = 0\n",
    "for i in itertools.combinations(df.service.unique(),2):\n",
    "    j=j+1\n",
    "    print(j), print(i)"
   ]
  }
 ],
 "metadata": {
  "colab": {
   "name": "AwanTunai.ipynb",
   "provenance": []
  },
  "kernelspec": {
   "display_name": "Python 3 (ipykernel)",
   "language": "python",
   "name": "python3"
  },
  "language_info": {
   "codemirror_mode": {
    "name": "ipython",
    "version": 3
   },
   "file_extension": ".py",
   "mimetype": "text/x-python",
   "name": "python",
   "nbconvert_exporter": "python",
   "pygments_lexer": "ipython3",
   "version": "3.12.1"
  },
  "vscode": {
   "interpreter": {
    "hash": "e57d65b3db466a255fb366a0fd9ddb903b84d832e81688bf0eb6e7b10d96915d"
   }
  }
 },
 "nbformat": 4,
 "nbformat_minor": 4
}
