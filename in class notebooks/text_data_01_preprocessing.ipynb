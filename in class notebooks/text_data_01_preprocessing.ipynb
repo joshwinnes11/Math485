{
 "cells": [
  {
   "cell_type": "markdown",
   "metadata": {},
   "source": [
    "## Setting up and preprocessing"
   ]
  },
  {
   "cell_type": "code",
   "execution_count": 2,
   "metadata": {},
   "outputs": [],
   "source": [
    "import pandas as pd\n",
    "import numpy as np\n",
    "import seaborn as sns \n",
    "from matplotlib import pyplot as plt\n",
    "from sklearn import metrics\n",
    "from sklearn.metrics import confusion_matrix\n",
    "from sklearn.metrics import ConfusionMatrixDisplay\n",
    "from sklearn.model_selection import train_test_split\n",
    "from sklearn.naive_bayes import MultinomialNB\n",
    "from sklearn.neural_network import MLPClassifier\n",
    "\n",
    "from sklearn.ensemble import RandomForestClassifier\n",
    "from sklearn.feature_extraction.text import CountVectorizer\n",
    "from sklearn.feature_extraction.text import TfidfVectorizer\n",
    "\n",
    "import openpyxl"
   ]
  },
  {
   "cell_type": "markdown",
   "metadata": {},
   "source": [
    "### Getting SDG definitions"
   ]
  },
  {
   "cell_type": "markdown",
   "metadata": {},
   "source": [
    "Reading the SDG definition data file. This file is obtained from https://figshare.com/articles/dataset/Keywords_and_search_strings_for_generating_SDG_training_sets/17294255?file=31949768 \n",
    "\n",
    "It is not the \"official definition\" of UN SDG, it is a good simple and usable explanation for what each UN SDG is about. \n",
    "\n",
    "The below code shows some cleaning done on the raw excel file downloaded from the source, and then save the cleaned data into a file ready to use. \n"
   ]
  },
  {
   "cell_type": "raw",
   "metadata": {},
   "source": [
    "data_dir = \"/Users/yingli/Development/TopicsInDataScience/\"\n",
    "file_name = \"Digital Science SDG training set searches.xlsx\"\n",
    "sdg_names = pd.read_excel(data_dir + file_name)\n",
    "sdg_names"
   ]
  },
  {
   "cell_type": "markdown",
   "metadata": {},
   "source": [
    "We need to clean up the extra headers in the excel file."
   ]
  },
  {
   "cell_type": "raw",
   "metadata": {},
   "source": [
    "sdg_names = sdg_names.drop([0,1,2], axis=0)\n",
    "sdg_names = sdg_names.set_axis([\"sdg\", \"sdg_name\", \"sdg_definition\"],axis=1, copy=False)\n",
    "sdg_names.reset_index(inplace=True,drop=True)\n",
    "sdg_names"
   ]
  },
  {
   "cell_type": "markdown",
   "metadata": {},
   "source": [
    "We can save the cleaned up data for later use."
   ]
  },
  {
   "cell_type": "raw",
   "metadata": {},
   "source": [
    "sdg_names.to_csv(\"sdg_name_definition.csv\", index=False, quotechar='\"')"
   ]
  },
  {
   "cell_type": "markdown",
   "metadata": {},
   "source": [
    "### Loading text data"
   ]
  },
  {
   "attachments": {},
   "cell_type": "markdown",
   "metadata": {},
   "source": [
    "* download the data from the source site: https://zenodo.org/records/11441197 , or download from my drive: \n",
    "\n",
    "* inspect the csv file and notice that each row is enclosed in double quotes, and the columns are delimited by tab\n",
    "📘 The file contains 43,0210 (+390) text excerpts and a total of 310,328 (+3,733) assigned labels.\n",
    "\n",
    "* web site said the file contains 43,0210 (+390) text excerpts and a total of 310,328 (+3,733) assigned labels. We should verify against these to be sure that we have read and processed the data correctly as they were\n",
    "* we had 43025 rows and 310357 labels instead. Given the difference, we can take the data as read and continue processing."
   ]
  },
  {
   "cell_type": "code",
   "execution_count": 3,
   "metadata": {},
   "outputs": [
    {
     "name": "stdout",
     "output_type": "stream",
     "text": [
      "<class 'pandas.core.frame.DataFrame'>\n",
      "RangeIndex: 43025 entries, 0 to 43024\n",
      "Data columns (total 7 columns):\n",
      " #   Column           Non-Null Count  Dtype  \n",
      "---  ------           --------------  -----  \n",
      " 0   doi              43025 non-null  object \n",
      " 1   text_id          43025 non-null  object \n",
      " 2   text             43025 non-null  object \n",
      " 3   sdg              43025 non-null  int64  \n",
      " 4   labels_negative  43025 non-null  int64  \n",
      " 5   labels_positive  43025 non-null  int64  \n",
      " 6   agreement        43025 non-null  float64\n",
      "dtypes: float64(1), int64(3), object(3)\n",
      "memory usage: 2.3+ MB\n"
     ]
    }
   ],
   "source": [
    "data_dir = '/Users/joshwinnes/Library/Mobile Documents/com~apple~CloudDocs/Wheaton College/fall 2024/topics in data science/data/'\n",
    "text_file_name = \"osdg-community-data-v2024-04-01.csv\"\n",
    "text_df = pd.read_csv(data_dir + text_file_name,sep = \"\\t\",  quotechar='\"')\n",
    "text_df.info()"
   ]
  },
  {
   "cell_type": "code",
   "execution_count": 4,
   "metadata": {},
   "outputs": [
    {
     "data": {
      "text/plain": [
       "310357"
      ]
     },
     "execution_count": 4,
     "metadata": {},
     "output_type": "execute_result"
    }
   ],
   "source": [
    "text_df.labels_negative.sum() + text_df.labels_positive.sum()"
   ]
  },
  {
   "cell_type": "code",
   "execution_count": 7,
   "metadata": {},
   "outputs": [
    {
     "data": {
      "text/html": [
       "<div>\n",
       "<style scoped>\n",
       "    .dataframe tbody tr th:only-of-type {\n",
       "        vertical-align: middle;\n",
       "    }\n",
       "\n",
       "    .dataframe tbody tr th {\n",
       "        vertical-align: top;\n",
       "    }\n",
       "\n",
       "    .dataframe thead th {\n",
       "        text-align: right;\n",
       "    }\n",
       "</style>\n",
       "<table border=\"1\" class=\"dataframe\">\n",
       "  <thead>\n",
       "    <tr style=\"text-align: right;\">\n",
       "      <th></th>\n",
       "      <th>doi</th>\n",
       "      <th>text_id</th>\n",
       "      <th>text</th>\n",
       "      <th>sdg</th>\n",
       "      <th>labels_negative</th>\n",
       "      <th>labels_positive</th>\n",
       "      <th>agreement</th>\n",
       "    </tr>\n",
       "  </thead>\n",
       "  <tbody>\n",
       "    <tr>\n",
       "      <th>0</th>\n",
       "      <td>10.6027/9789289342698-7-en</td>\n",
       "      <td>00021941702cd84171ff33962197ca1f</td>\n",
       "      <td>From a gender perspective, Paulgaard points ou...</td>\n",
       "      <td>5</td>\n",
       "      <td>1</td>\n",
       "      <td>8</td>\n",
       "      <td>0.777778</td>\n",
       "    </tr>\n",
       "    <tr>\n",
       "      <th>1</th>\n",
       "      <td>10.18356/eca72908-en</td>\n",
       "      <td>00028349a7f9b2485ff344ae44ccfd6b</td>\n",
       "      <td>Labour legislation regulates maximum working h...</td>\n",
       "      <td>11</td>\n",
       "      <td>2</td>\n",
       "      <td>1</td>\n",
       "      <td>0.333333</td>\n",
       "    </tr>\n",
       "    <tr>\n",
       "      <th>2</th>\n",
       "      <td>10.1787/9789264289062-4-en</td>\n",
       "      <td>0004eb64f96e1620cd852603d9cbe4d4</td>\n",
       "      <td>The average figure also masks large difference...</td>\n",
       "      <td>3</td>\n",
       "      <td>1</td>\n",
       "      <td>8</td>\n",
       "      <td>0.777778</td>\n",
       "    </tr>\n",
       "    <tr>\n",
       "      <th>3</th>\n",
       "      <td>10.1787/3726edff-en</td>\n",
       "      <td>0005d3e8b213d9e2cb967666e1aca2e9</td>\n",
       "      <td>Applied research is directed “primarily toward...</td>\n",
       "      <td>9</td>\n",
       "      <td>3</td>\n",
       "      <td>6</td>\n",
       "      <td>0.333333</td>\n",
       "    </tr>\n",
       "    <tr>\n",
       "      <th>4</th>\n",
       "      <td>10.1787/5k9b7bn5qzvd-en</td>\n",
       "      <td>0006a887475ccfa5a7f5f51d4ac83d02</td>\n",
       "      <td>The extent to which they are akin to corruptio...</td>\n",
       "      <td>3</td>\n",
       "      <td>1</td>\n",
       "      <td>2</td>\n",
       "      <td>0.333333</td>\n",
       "    </tr>\n",
       "  </tbody>\n",
       "</table>\n",
       "</div>"
      ],
      "text/plain": [
       "                          doi                           text_id  \\\n",
       "0  10.6027/9789289342698-7-en  00021941702cd84171ff33962197ca1f   \n",
       "1        10.18356/eca72908-en  00028349a7f9b2485ff344ae44ccfd6b   \n",
       "2  10.1787/9789264289062-4-en  0004eb64f96e1620cd852603d9cbe4d4   \n",
       "3         10.1787/3726edff-en  0005d3e8b213d9e2cb967666e1aca2e9   \n",
       "4     10.1787/5k9b7bn5qzvd-en  0006a887475ccfa5a7f5f51d4ac83d02   \n",
       "\n",
       "                                                text  sdg  labels_negative  \\\n",
       "0  From a gender perspective, Paulgaard points ou...    5                1   \n",
       "1  Labour legislation regulates maximum working h...   11                2   \n",
       "2  The average figure also masks large difference...    3                1   \n",
       "3  Applied research is directed “primarily toward...    9                3   \n",
       "4  The extent to which they are akin to corruptio...    3                1   \n",
       "\n",
       "   labels_positive  agreement  \n",
       "0                8   0.777778  \n",
       "1                1   0.333333  \n",
       "2                8   0.777778  \n",
       "3                6   0.333333  \n",
       "4                2   0.333333  "
      ]
     },
     "execution_count": 7,
     "metadata": {},
     "output_type": "execute_result"
    }
   ],
   "source": [
    "text_df.head()"
   ]
  },
  {
   "attachments": {},
   "cell_type": "markdown",
   "metadata": {},
   "source": [
    "### Cleaning and filtering data\n",
    "* drop the columns not needed: the first column contains the DOI of the text excerpt, not needed for our purpose.\n",
    "* filter the rows: we want to use those text excerpts that have labeling agreement greater than 0.5 and the number of positive label is greater than negative label by more than 2.\n",
    "* after such cleaning, we have 26,526 rows of data.\n"
   ]
  },
  {
   "cell_type": "code",
   "execution_count": 8,
   "metadata": {},
   "outputs": [
    {
     "name": "stdout",
     "output_type": "stream",
     "text": [
      "<class 'pandas.core.frame.DataFrame'>\n",
      "RangeIndex: 26526 entries, 0 to 26525\n",
      "Data columns (total 6 columns):\n",
      " #   Column           Non-Null Count  Dtype  \n",
      "---  ------           --------------  -----  \n",
      " 0   text_id          26526 non-null  object \n",
      " 1   text             26526 non-null  object \n",
      " 2   sdg              26526 non-null  int64  \n",
      " 3   labels_negative  26526 non-null  int64  \n",
      " 4   labels_positive  26526 non-null  int64  \n",
      " 5   agreement        26526 non-null  float64\n",
      "dtypes: float64(1), int64(3), object(2)\n",
      "memory usage: 1.2+ MB\n"
     ]
    }
   ],
   "source": [
    "text_df.drop(text_df.columns.values[0],axis = 1, inplace=True)\n",
    "text_df = text_df.query(\"agreement > 0.5 and (labels_positive - labels_negative) > 2\").reset_index(drop=True)\n",
    "text_df.info()"
   ]
  },
  {
   "cell_type": "markdown",
   "metadata": {},
   "source": [
    "### Loading NLTK data as examples\n",
    "\n",
    "NLTK comes with some books as text example."
   ]
  },
  {
   "cell_type": "code",
   "execution_count": 9,
   "metadata": {},
   "outputs": [
    {
     "name": "stderr",
     "output_type": "stream",
     "text": [
      "[nltk_data] Downloading collection 'popular'\n",
      "[nltk_data]    | \n",
      "[nltk_data]    | Downloading package cmudict to\n",
      "[nltk_data]    |     /Users/yingli/nltk_data...\n",
      "[nltk_data]    |   Package cmudict is already up-to-date!\n",
      "[nltk_data]    | Downloading package gazetteers to\n",
      "[nltk_data]    |     /Users/yingli/nltk_data...\n",
      "[nltk_data]    |   Package gazetteers is already up-to-date!\n",
      "[nltk_data]    | Downloading package genesis to\n",
      "[nltk_data]    |     /Users/yingli/nltk_data...\n",
      "[nltk_data]    |   Package genesis is already up-to-date!\n",
      "[nltk_data]    | Downloading package gutenberg to\n",
      "[nltk_data]    |     /Users/yingli/nltk_data...\n",
      "[nltk_data]    |   Package gutenberg is already up-to-date!\n",
      "[nltk_data]    | Downloading package inaugural to\n",
      "[nltk_data]    |     /Users/yingli/nltk_data...\n",
      "[nltk_data]    |   Package inaugural is already up-to-date!\n",
      "[nltk_data]    | Downloading package movie_reviews to\n",
      "[nltk_data]    |     /Users/yingli/nltk_data...\n",
      "[nltk_data]    |   Package movie_reviews is already up-to-date!\n",
      "[nltk_data]    | Downloading package names to\n",
      "[nltk_data]    |     /Users/yingli/nltk_data...\n",
      "[nltk_data]    |   Package names is already up-to-date!\n",
      "[nltk_data]    | Downloading package shakespeare to\n",
      "[nltk_data]    |     /Users/yingli/nltk_data...\n",
      "[nltk_data]    |   Package shakespeare is already up-to-date!\n",
      "[nltk_data]    | Downloading package stopwords to\n",
      "[nltk_data]    |     /Users/yingli/nltk_data...\n",
      "[nltk_data]    |   Package stopwords is already up-to-date!\n",
      "[nltk_data]    | Downloading package treebank to\n",
      "[nltk_data]    |     /Users/yingli/nltk_data...\n",
      "[nltk_data]    |   Package treebank is already up-to-date!\n",
      "[nltk_data]    | Downloading package twitter_samples to\n",
      "[nltk_data]    |     /Users/yingli/nltk_data...\n",
      "[nltk_data]    |   Package twitter_samples is already up-to-date!\n",
      "[nltk_data]    | Downloading package omw to /Users/yingli/nltk_data...\n",
      "[nltk_data]    |   Package omw is already up-to-date!\n",
      "[nltk_data]    | Downloading package omw-1.4 to\n",
      "[nltk_data]    |     /Users/yingli/nltk_data...\n",
      "[nltk_data]    |   Package omw-1.4 is already up-to-date!\n",
      "[nltk_data]    | Downloading package wordnet to\n",
      "[nltk_data]    |     /Users/yingli/nltk_data...\n",
      "[nltk_data]    |   Package wordnet is already up-to-date!\n",
      "[nltk_data]    | Downloading package wordnet2021 to\n",
      "[nltk_data]    |     /Users/yingli/nltk_data...\n",
      "[nltk_data]    |   Package wordnet2021 is already up-to-date!\n",
      "[nltk_data]    | Downloading package wordnet31 to\n",
      "[nltk_data]    |     /Users/yingli/nltk_data...\n",
      "[nltk_data]    |   Package wordnet31 is already up-to-date!\n",
      "[nltk_data]    | Downloading package wordnet_ic to\n",
      "[nltk_data]    |     /Users/yingli/nltk_data...\n",
      "[nltk_data]    |   Package wordnet_ic is already up-to-date!\n",
      "[nltk_data]    | Downloading package words to\n",
      "[nltk_data]    |     /Users/yingli/nltk_data...\n",
      "[nltk_data]    |   Package words is already up-to-date!\n",
      "[nltk_data]    | Downloading package maxent_ne_chunker to\n",
      "[nltk_data]    |     /Users/yingli/nltk_data...\n",
      "[nltk_data]    |   Package maxent_ne_chunker is already up-to-date!\n",
      "[nltk_data]    | Downloading package punkt to\n",
      "[nltk_data]    |     /Users/yingli/nltk_data...\n",
      "[nltk_data]    |   Package punkt is already up-to-date!\n",
      "[nltk_data]    | Downloading package snowball_data to\n",
      "[nltk_data]    |     /Users/yingli/nltk_data...\n",
      "[nltk_data]    |   Package snowball_data is already up-to-date!\n",
      "[nltk_data]    | Downloading package averaged_perceptron_tagger to\n",
      "[nltk_data]    |     /Users/yingli/nltk_data...\n",
      "[nltk_data]    |   Package averaged_perceptron_tagger is already up-\n",
      "[nltk_data]    |       to-date!\n",
      "[nltk_data]    | \n",
      "[nltk_data]  Done downloading collection popular\n"
     ]
    },
    {
     "data": {
      "text/plain": [
       "True"
      ]
     },
     "execution_count": 9,
     "metadata": {},
     "output_type": "execute_result"
    }
   ],
   "source": [
    "import nltk\n",
    "nltk.download('popular')"
   ]
  },
  {
   "cell_type": "code",
   "execution_count": 10,
   "metadata": {},
   "outputs": [
    {
     "name": "stdout",
     "output_type": "stream",
     "text": [
      "*** Introductory Examples for the NLTK Book ***\n",
      "Loading text1, ..., text9 and sent1, ..., sent9\n",
      "Type the name of the text or sentence to view it.\n",
      "Type: 'texts()' or 'sents()' to list the materials.\n",
      "text1: Moby Dick by Herman Melville 1851\n",
      "text2: Sense and Sensibility by Jane Austen 1811\n",
      "text3: The Book of Genesis\n",
      "text4: Inaugural Address Corpus\n",
      "text5: Chat Corpus\n",
      "text6: Monty Python and the Holy Grail\n",
      "text7: Wall Street Journal\n",
      "text8: Personals Corpus\n",
      "text9: The Man Who Was Thursday by G . K . Chesterton 1908\n"
     ]
    }
   ],
   "source": [
    "from nltk.book import *"
   ]
  },
  {
   "cell_type": "code",
   "execution_count": 11,
   "metadata": {},
   "outputs": [
    {
     "name": "stdout",
     "output_type": "stream",
     "text": [
      "['that', 'lit', 'our', 'aimless', 'gloom', ',', 'Men', 'showed', 'their', 'own', 'white', 'feather', 'as', 'proudly', 'as', 'a', 'plume', '.', 'Life', 'was']\n"
     ]
    }
   ],
   "source": [
    "print(text9[100:120])"
   ]
  },
  {
   "cell_type": "markdown",
   "metadata": {},
   "source": [
    "## NLP preprocessing"
   ]
  },
  {
   "attachments": {},
   "cell_type": "markdown",
   "metadata": {},
   "source": [
    "### Handling languages and cases in the text\n",
    "\n",
    "There exists many packages for detecting languages in the text. \"langdetect\" is easy to use and very much a single purposed, it is also a bit old (dated last update) but still functional."
   ]
  },
  {
   "cell_type": "code",
   "execution_count": 12,
   "metadata": {},
   "outputs": [
    {
     "name": "stdout",
     "output_type": "stream",
     "text": [
      "en\n",
      "de\n",
      "zh-cn\n",
      "ja\n"
     ]
    }
   ],
   "source": [
    "from langdetect import detect\n",
    "print(detect(\"War doesn't show who's right, just who's left.\"))\n",
    "print(detect(\"Ein, zwei, drei, vier\"))\n",
    "print(detect('四个和尚没水喝'))\n",
    "print(detect('今一はお前さん'))"
   ]
  },
  {
   "attachments": {},
   "cell_type": "markdown",
   "metadata": {},
   "source": [
    "We add a column in data frame for the corresponding language."
   ]
  },
  {
   "cell_type": "code",
   "execution_count": 13,
   "metadata": {},
   "outputs": [
    {
     "data": {
      "text/plain": [
       "lang\n",
       "en    26471\n",
       "fr       45\n",
       "es        6\n",
       "de        1\n",
       "et        1\n",
       "fi        1\n",
       "id        1\n",
       "Name: count, dtype: int64"
      ]
     },
     "execution_count": 13,
     "metadata": {},
     "output_type": "execute_result"
    }
   ],
   "source": [
    "from langdetect import detect\n",
    "text_df[\"lang\"] = text_df.loc[:,\"text\"].apply(lambda x: detect(x)).to_list()\n",
    "text_df.lang.value_counts()"
   ]
  },
  {
   "attachments": {},
   "cell_type": "markdown",
   "metadata": {},
   "source": [
    "Should we filter out those non-english texts?\n",
    "\n",
    "* Depending on the tasks, we may get \"wrong\" results, or it may not matter as much. Most important is to ensure a text does not break the code. \n",
    "* a body of text may not be of a single language, could be mixed in with phrases of multiple languages. As we see in below, row 19351 in our cleaned data frame has chinese mixed in among english.\n",
    "* however, detecting language is still important for some tasks such as word breaking, stemming, stop-word removal, etc. "
   ]
  },
  {
   "cell_type": "code",
   "execution_count": 14,
   "metadata": {},
   "outputs": [
    {
     "data": {
      "text/plain": [
       "161      Une telle decomposition par categorie UICN n'e...\n",
       "624      Le papier discute ensuite les choix methodolog...\n",
       "1480     Revenant aux reorientations plus recentes de f...\n",
       "1669     Les problemes de sante mentale legers a modere...\n",
       "3384     Cependant, le developpement de mecanismes de r...\n",
       "5400     Par contre, on n’aper^oit pas une difference c...\n",
       "6069     Moreover, a budget-neutral redistribution of f...\n",
       "6662     Il existe une raison supplementaire pour mettr...\n",
       "6793     Ce document est le premier a donner une vue d’...\n",
       "7701     A cette fin, il est divise en trois sections. ...\n",
       "7925     Les taux d’emploi feminins reagissent aux vari...\n",
       "8172     The emphasis is on understanding how increasin...\n",
       "9277     Entre 2007 et 2012, le niveau de vie median de...\n",
       "9321     Enfin, il analyse, a partir des Statistiques d...\n",
       "9445     This paper looks at the features of good caree...\n",
       "10095    La mise en oeuvre de l'enquete se fait de mani...\n",
       "10328    Ces donnees montrent que le niveau global des ...\n",
       "10452    Par ailleurs, les resultats suggerent que l’ef...\n",
       "10937    La protection economique des femmes en age ava...\n",
       "11203    En particulier, ce qui importe le plus est l'e...\n",
       "11210    Les jeunes adultes ne trouvant pas de travail ...\n",
       "12506    Les pays declarants consacrent 0.6 % a 1.8 % d...\n",
       "12587    Cuts in unemployment-related and disability be...\n",
       "12963    La derniere rubrique du document aborde les el...\n",
       "14718    For males, we estimate an hourly earnings prem...\n",
       "15886    Dans les economies bienveillantes, les salaire...\n",
       "16608    Industry can contribute with solutions such as...\n",
       "17073    Les programmes de developpement de l’agricultu...\n",
       "17887    Des estimations qui tiennent compte de Fhetero...\n",
       "18398    Better data and more analysis are an essential...\n",
       "18771    Aucune intervention isolee ne sera a meme de g...\n",
       "18992    Les negotiations se poursuivent en vue d’obten...\n",
       "19363    Le faible nombre d’inscrits dans les filieres ...\n",
       "19521    Toutefois, les prix du ble ayant beneficie ces...\n",
       "19680    The paper concludes by discussing the conflict...\n",
       "20273    Le present document est consacre a ces questio...\n",
       "21256    Ces enfants sont souvent confrontes a de multi...\n",
       "21856    La mesure la plus urgente consiste a mettre en...\n",
       "23103    Ils representaient egalement un plus faible po...\n",
       "24014    Le PISA 2015 montre que les resultats obtenus ...\n",
       "25048    Toutefois, qu'ils soient hommes ou femmes, les...\n",
       "25140    Plusieurs dispositifs d’assistance bilaterale ...\n",
       "25528    Dans le cours de cette etude, les comparaisons...\n",
       "26024    Ces obligations doivent etre respectees dans t...\n",
       "26200    La part des creances douteuses dans les portef...\n",
       "Name: text, dtype: object"
      ]
     },
     "execution_count": 14,
     "metadata": {},
     "output_type": "execute_result"
    }
   ],
   "source": [
    "text_df.query(\"lang== 'fr'\")[\"text\"]"
   ]
  },
  {
   "attachments": {},
   "cell_type": "markdown",
   "metadata": {},
   "source": [
    "Use str.find to locate the position of a substring in a string, negative return indicate not found.\n",
    "\n",
    "Use of lower() and casefold()"
   ]
  },
  {
   "cell_type": "code",
   "execution_count": 15,
   "metadata": {},
   "outputs": [
    {
     "data": {
      "text/plain": [
       "19351    In China today,President Xi Jinping’s new gran...\n",
       "Name: text, dtype: object"
      ]
     },
     "execution_count": 15,
     "metadata": {},
     "output_type": "execute_result"
    }
   ],
   "source": [
    "text_df[text_df[\"text\"].apply(lambda x: x.find('四个全面')) > 0][\"text\"]"
   ]
  },
  {
   "cell_type": "code",
   "execution_count": 16,
   "metadata": {},
   "outputs": [
    {
     "name": "stdout",
     "output_type": "stream",
     "text": [
      "In China today,President Xi Jinping’s new grand narrative is framed by the widely publicised ‘four comprehensives’ (四个全面, ‘sigequanmian’). This narrative aims to : 1.build a moderately prosperous society, 2. deepen reform, 3. govern the nation according to law, and 4. tighten Party discipline. It is essentially a political narrative that tells a moral tale that legitimizes and glorifies the virtues of the present. It also attempts to shrug off mistakes of the previous dynasty. Drawing on the legal disciplines of economic law, international comparative law and the a priori analytic method of legal narrative analysis, this paper provides a critical appraisal of the ‘four comprehensives’, paying special attention to how the four principal strands of the narrative shape the directions of China’s socialist rule of law reforms and governance.  Key words: Chinese law reform, four comprehensives, 四个全面, sigequanmian,socialist rule of law,legal narrative analysis, economic-law nexus, South China Sea.\n"
     ]
    }
   ],
   "source": [
    "print(text_df[text_df[\"text\"].apply(lambda x: x.find('四个全面')) > 0][\"text\"].values[0])"
   ]
  },
  {
   "cell_type": "code",
   "execution_count": 17,
   "metadata": {},
   "outputs": [
    {
     "name": "stdout",
     "output_type": "stream",
     "text": [
      "True\n",
      "True\n",
      "False\n",
      "True\n"
     ]
    }
   ],
   "source": [
    "temp_text = text_df[text_df[\"text\"].apply(lambda x: x.find('四个全面')) > 0][\"text\"].values[0]\n",
    "print(temp_text == text_df.iloc[19351].text)\n",
    "print(temp_text is text_df.iloc[19351].text)\n",
    "print(temp_text == text_df.iloc[19351].text.casefold())\n",
    "print(temp_text.lower() == text_df.iloc[19351].text.casefold())"
   ]
  },
  {
   "cell_type": "code",
   "execution_count": 18,
   "metadata": {},
   "outputs": [
    {
     "name": "stdout",
     "output_type": "stream",
     "text": [
      "in china today,president xi jinping’s new grand narrative is framed by the widely publicised ‘four comprehensives’ (四个全面, ‘sigequanmian’). this narrative aims to : 1.build a moderately prosperous society, 2. deepen reform, 3. govern the nation according to law, and 4. tighten party discipline. it is essentially a political narrative that tells a moral tale that legitimizes and glorifies the virtues of the present. it also attempts to shrug off mistakes of the previous dynasty. drawing on the legal disciplines of economic law, international comparative law and the a priori analytic method of legal narrative analysis, this paper provides a critical appraisal of the ‘four comprehensives’, paying special attention to how the four principal strands of the narrative shape the directions of china’s socialist rule of law reforms and governance.  key words: chinese law reform, four comprehensives, 四个全面, sigequanmian,socialist rule of law,legal narrative analysis, economic-law nexus, south china sea.\n"
     ]
    }
   ],
   "source": [
    "print(temp_text.casefold())"
   ]
  },
  {
   "cell_type": "code",
   "execution_count": 19,
   "metadata": {},
   "outputs": [
    {
     "name": "stdout",
     "output_type": "stream",
     "text": [
      "Using casefold(): gross\n",
      "Using lower(): groß\n"
     ]
    }
   ],
   "source": [
    "text = 'groß'\n",
    "\n",
    "# convert text to lowercase using casefold()\n",
    "print('Using casefold():', text.casefold()) \n",
    "\n",
    "# convert text to lowercase using lower()\n",
    "print('Using lower():', text.lower())"
   ]
  },
  {
   "cell_type": "code",
   "execution_count": 20,
   "metadata": {},
   "outputs": [
    {
     "data": {
      "text/plain": [
       "'the israel oceanographic and limnological research station monitors the quantity and quality of water along the coastline of the mediterranean sea. the nature and parks authority (npa) monitors water quality in rivers on behalf of the moep. mekorot and local authorities monitor drinking water quality under the supervision of the ministry of health. the ministry of health monitors effluent quality prior to its use in the agricultural sector.'"
      ]
     },
     "execution_count": 20,
     "metadata": {},
     "output_type": "execute_result"
    }
   ],
   "source": [
    "text_df.iloc[3].text.lower()"
   ]
  },
  {
   "attachments": {},
   "cell_type": "markdown",
   "metadata": {},
   "source": [
    " - use fasttext to detect language\n",
    " - it can return top k languages with the estimated probability"
   ]
  },
  {
   "cell_type": "code",
   "execution_count": 21,
   "metadata": {},
   "outputs": [
    {
     "name": "stdout",
     "output_type": "stream",
     "text": [
      "(('__label__en', '__label__fr', '__label__es'), array([0.87778687, 0.00653897, 0.00630662]))\n",
      "(('__label__en',), array([0.84054285]))\n",
      "(('__label__zh', '__label__ja'), array([0.68349081, 0.31656581]))\n",
      "(('__label__ar', '__label__fa'), array([0.98124713, 0.01265871]))\n",
      "(('__label__zh', '__label__fr'), array([9.99575794e-01, 2.11721170e-04]))\n"
     ]
    }
   ],
   "source": [
    "import fasttext\n",
    "temp_text = text_df[text_df[\"text\"].apply(lambda x: x.find('四个全面')) > 0][\"text\"].values[0]\n",
    "\n",
    "model = fasttext.load_model(data_dir + 'lid.176.ftz')\n",
    "print(model.predict(temp_text, k=3))\n",
    "print(model.predict(\"In China today,President Xi Jinping’s new grand narrative is framed by the widely publicised ‘four comprehensives’ (四个全面, ‘sigequanmian’).\"))\n",
    "print(model.predict('四个全面', k=3))\n",
    "print(model.predict('الشمس تشرق', k=2))  # top 2 matching languages\n",
    "print(model.predict(\"影響包含對氣候的變化以及自然資源的枯竭程度\",k=2))  # top 2 matching languages\n"
   ]
  },
  {
   "cell_type": "markdown",
   "metadata": {},
   "source": [
    "### Stemming"
   ]
  },
  {
   "cell_type": "code",
   "execution_count": 22,
   "metadata": {},
   "outputs": [
    {
     "name": "stdout",
     "output_type": "stream",
     "text": [
      "Porter Stemmer: ['narr', 'comprehens', 'publicis', 'moder', 'prosper', 'legitim', 'accord', 'glorifi']\n",
      "Snowball Stemmer: ['narrat', 'comprehens', 'publicis', 'moder', 'prosper', 'legitim', 'accord', 'glorifi']\n",
      "Lancaster Stemmer: ['nar', 'comprehend', 'publ', 'mod', 'prosp', 'legitim', 'accord', 'glor']\n"
     ]
    }
   ],
   "source": [
    "from nltk import stem\n",
    "\n",
    "tokens =  ['narrative', 'comprehensives', 'publicised', 'moderately', 'prosperous', 'legitimizes', 'according', 'glorifies'] \n",
    "\n",
    "porter = stem.porter.PorterStemmer() # Porter stemmer\n",
    "snowball = stem.snowball.EnglishStemmer() # Snowball stemmer\n",
    "lancaster = stem.lancaster.LancasterStemmer() # Lancaster stemmer\n",
    "\n",
    "print('Porter Stemmer:', [porter.stem(i) for i in tokens])\n",
    "print('Snowball Stemmer:', [snowball.stem(i) for i in tokens])\n",
    "print('Lancaster Stemmer:', [lancaster.stem(i) for i in tokens])\n"
   ]
  },
  {
   "cell_type": "markdown",
   "metadata": {},
   "source": [
    "### build vocabulary and compute frequency"
   ]
  },
  {
   "cell_type": "markdown",
   "metadata": {},
   "source": [
    "NLTK corpus are already pre-processed, came with vocabulary and frequencies."
   ]
  },
  {
   "cell_type": "code",
   "execution_count": 23,
   "metadata": {},
   "outputs": [
    {
     "data": {
      "text/plain": [
       "FreqDist({',': 3488, 'the': 3291, '.': 2717, 'a': 1713, 'of': 1710, 'and': 1568, '\"': 1336, 'to': 1045, 'in': 888, 'I': 885, ...})"
      ]
     },
     "execution_count": 23,
     "metadata": {},
     "output_type": "execute_result"
    }
   ],
   "source": [
    "text9.vocab()"
   ]
  },
  {
   "cell_type": "markdown",
   "metadata": {},
   "source": [
    "look at the top 30 tokens in terms frequency (appearance counts in the text), and plot their accumulative totals"
   ]
  },
  {
   "cell_type": "code",
   "execution_count": 24,
   "metadata": {},
   "outputs": [
    {
     "name": "stdout",
     "output_type": "stream",
     "text": [
      "   ,  the    .    a   of  and    \"   to   in    I   he that  his  was  you   it with Syme   ,\" said    '   is   as  had   .\"  not    ;  The   at    - \n",
      "3488 3291 2717 1713 1710 1568 1336 1045  888  885  858  841  765  716  580  565  544  515  507  507  496  462  456  427  391  355  331  326  324  294 \n",
      "None\n"
     ]
    },
    {
     "data": {
      "text/plain": [
       "<Axes: xlabel='Samples', ylabel='Cumulative Counts'>"
      ]
     },
     "execution_count": 24,
     "metadata": {},
     "output_type": "execute_result"
    },
    {
     "data": {
      "image/png": "[encoded data removed]",
      "text/plain": [
       "<Figure size 1000x400 with 1 Axes>"
      ]
     },
     "metadata": {},
     "output_type": "display_data"
    }
   ],
   "source": [
    "print(text9.vocab().tabulate(30))\n",
    "plt.figure(figsize = (10,4))\n",
    "text9.vocab().plot(30, cumulative=True)"
   ]
  },
  {
   "cell_type": "markdown",
   "metadata": {},
   "source": [
    "### NLP prrocessing using NLTK"
   ]
  },
  {
   "cell_type": "code",
   "execution_count": 25,
   "metadata": {},
   "outputs": [],
   "source": [
    "import re\n",
    "from nltk.util import ngrams # function for making ngrams"
   ]
  },
  {
   "cell_type": "code",
   "execution_count": 26,
   "metadata": {},
   "outputs": [
    {
     "name": "stdout",
     "output_type": "stream",
     "text": [
      "In China today,President Xi Jinping’s new grand narrative is framed by the widely publicised ‘four comprehensives’ (四个全面, ‘sigequanmian’). This narrative aims to : 1.build a moderately prosperous society, 2. deepen reform, 3. govern the nation according to law, and 4. tighten Party discipline. It is essentially a political narrative that tells a moral tale that legitimizes and glorifies the virtues of the present. It also attempts to shrug off mistakes of the previous dynasty. Drawing on the legal disciplines of economic law, international comparative law and the a priori analytic method of legal narrative analysis, this paper provides a critical appraisal of the ‘four comprehensives’, paying special attention to how the four principal strands of the narrative shape the directions of China’s socialist rule of law reforms and governance.  Key words: Chinese law reform, four comprehensives, 四个全面, sigequanmian,socialist rule of law,legal narrative analysis, economic-law nexus, South China Sea.\n",
      "['In', 'China', 'today,President', 'Xi', 'Jinping’s', 'new', 'grand', 'narrative', 'is', 'framed', 'by', 'the', 'widely', 'publicised', '‘four', 'comprehensives’', '(四个全面,', '‘sigequanmian’).', 'This', 'narrative', 'aims', 'to', ':', '1.build', 'a', 'moderately', 'prosperous', 'society,', '2.', 'deepen', 'reform,', '3.', 'govern', 'the', 'nation', 'according', 'to', 'law,', 'and', '4.', 'tighten', 'Party', 'discipline.', 'It', 'is', 'essentially', 'a', 'political', 'narrative', 'that', 'tells', 'a', 'moral', 'tale', 'that', 'legitimizes', 'and', 'glorifies', 'the', 'virtues', 'of', 'the', 'present.', 'It', 'also', 'attempts', 'to', 'shrug', 'off', 'mistakes', 'of', 'the', 'previous', 'dynasty.', 'Drawing', 'on', 'the', 'legal', 'disciplines', 'of', 'economic', 'law,', 'international', 'comparative', 'law', 'and', 'the', 'a', 'priori', 'analytic', 'method', 'of', 'legal', 'narrative', 'analysis,', 'this', 'paper', 'provides', 'a', 'critical', 'appraisal', 'of', 'the', '‘four', 'comprehensives’,', 'paying', 'special', 'attention', 'to', 'how', 'the', 'four', 'principal', 'strands', 'of', 'the', 'narrative', 'shape', 'the', 'directions', 'of', 'China’s', 'socialist', 'rule', 'of', 'law', 'reforms', 'and', 'governance.', 'Key', 'words:', 'Chinese', 'law', 'reform,', 'four', 'comprehensives,', '四个全面,', 'sigequanmian,socialist', 'rule', 'of', 'law,legal', 'narrative', 'analysis,', 'economic-law', 'nexus,', 'South', 'China', 'Sea.']\n"
     ]
    }
   ],
   "source": [
    "temp_text = text_df[text_df[\"text\"].apply(lambda x: x.find('四个全面')) > 0][\"text\"].values[0]\n",
    "print(temp_text)\n",
    "print(temp_text.split())"
   ]
  },
  {
   "cell_type": "code",
   "execution_count": 27,
   "metadata": {},
   "outputs": [
    {
     "name": "stdout",
     "output_type": "stream",
     "text": [
      "<re.Match object; span=(3, 8), match='China'>\n",
      "<re.Match object; span=(13, 15), match='y,'>\n"
     ]
    }
   ],
   "source": [
    "print(re.search(r'China', temp_text))\n",
    "print(re.search(r'[a-z]\\,',temp_text)) # searching for the first lower case letter followed by a comma. \n"
   ]
  },
  {
   "cell_type": "markdown",
   "metadata": {},
   "source": [
    "breaking text into sentences and words (tokens)."
   ]
  },
  {
   "cell_type": "code",
   "execution_count": 40,
   "metadata": {},
   "outputs": [
    {
     "name": "stderr",
     "output_type": "stream",
     "text": [
      "[nltk_data] Downloading package punkt_tab to\n",
      "[nltk_data]     /Users/yingli/nltk_data...\n",
      "[nltk_data]   Package punkt_tab is already up-to-date!\n"
     ]
    },
    {
     "data": {
      "text/plain": [
       "(2804995, 88421)"
      ]
     },
     "execution_count": 40,
     "metadata": {},
     "output_type": "execute_result"
    }
   ],
   "source": [
    "from nltk import word_tokenize, sent_tokenize\n",
    "nltk.download('punkt_tab') \n",
    "corpus = text_df.text\n",
    "corpus_str = corpus.str.cat() \n",
    "tokens = word_tokenize(corpus_str)\n",
    "len(tokens), len(set(tokens))"
   ]
  },
  {
   "cell_type": "code",
   "execution_count": 29,
   "metadata": {},
   "outputs": [
    {
     "name": "stdout",
     "output_type": "stream",
     "text": [
      "['represents', 'continuity', 'with', 'the', 'past', \"''\", '(', 'Paulgaard', '2002', ':', '102', ')', '.', 'When', 'Paulgaard', 'refers', 'to', 'continuity', 'with', 'traditions', ',', 'she', 'refers', 'to', 'the', 'expectations', 'of', 'young', 'adults', 'to']\n"
     ]
    }
   ],
   "source": [
    "print(tokens[100:130])"
   ]
  },
  {
   "cell_type": "code",
   "execution_count": 30,
   "metadata": {},
   "outputs": [
    {
     "data": {
      "text/plain": [
       "[(',', 140392),\n",
       " ('the', 135380),\n",
       " ('of', 101802),\n",
       " ('and', 99508),\n",
       " ('.', 72493),\n",
       " ('to', 68025),\n",
       " ('in', 63195),\n",
       " ('a', 35385),\n",
       " ('for', 29778),\n",
       " ('(', 28134),\n",
       " (')', 27107),\n",
       " ('is', 26909),\n",
       " ('that', 21493),\n",
       " ('are', 19506),\n",
       " ('on', 18912),\n",
       " ('as', 18416),\n",
       " ('with', 14674),\n",
       " ('by', 14569),\n",
       " ('be', 13463),\n",
       " ('The', 13080),\n",
       " ('from', 10226),\n",
       " ('have', 9767),\n",
       " ('or', 9650),\n",
       " ('has', 8096),\n",
       " ('not', 8009),\n",
       " ('this', 7928),\n",
       " ('countries', 7910),\n",
       " ('an', 7890),\n",
       " ('their', 7621),\n",
       " ('also', 7530)]"
      ]
     },
     "execution_count": 30,
     "metadata": {},
     "output_type": "execute_result"
    }
   ],
   "source": [
    "from nltk import collocations\n",
    "fd = collocations.FreqDist(tokens)\n",
    "fd.most_common(30)"
   ]
  },
  {
   "cell_type": "code",
   "execution_count": 31,
   "metadata": {},
   "outputs": [
    {
     "data": {
      "text/plain": [
       "[(\"'Camikavas\", 'negi'),\n",
       " (\"'Necessary\", 'Thickening'),\n",
       " (\"'PES-like\", \"fashion'and\"),\n",
       " (\"'Paris\", \"rulebook'.This\"),\n",
       " (\"'any\", 'electrically'),\n",
       " (\"'ex\", 'turpi'),\n",
       " (\"'family\", \"values'.To\"),\n",
       " (\"'nine\", 'gems'),\n",
       " (\"'opportunity\", \"cost'approach\"),\n",
       " ('-16.58', 'p.p.'),\n",
       " ('-Midia', 'Navodari'),\n",
       " ('-at', 'times-also'),\n",
       " ('-chronically-ill', 'people-'),\n",
       " ('-red', 'ressing'),\n",
       " ('.95.5', '95.3'),\n",
       " ('.Case', 'Closed'),\n",
       " ('.Definiciones', 'Instrumentos'),\n",
       " ('.Resolution', '49/116'),\n",
       " ('//climatepolicyinitiative.org/', 'wp-content/uploads/2015/05/150512'),\n",
       " ('//data.uJorldbank.org/', 'about/country-classifications'),\n",
       " ('//documents.worldbank.org/curated/en/552891468229171088/Cambodia-Nutrition-at-a-g',\n",
       "  'lance'),\n",
       " ('//documents.worldbank.org/curated/en/822981493749732711/',\n",
       "  'Enabling-the-digital-revolution-in-Sub-Saharan-Africa-what-role-for-policy-reforms'),\n",
       " ('//doi.org/10.1080/', '07900627.2017.1401919'),\n",
       " ('//dx.doi.org/10.1787/', 'sti_scoreboard-2013-en'),\n",
       " ('//ec.euroDa.cu/soc', 'ial/BlobServlcl'),\n",
       " ('//economictimes.indiatimes.com/',\n",
       "  'news/politics-and-nation/indias-renewable-energy-targets-catch-the-attention-of-global-investors-still-need-ground-work/articleshow/53015707.cms'),\n",
       " ('//enviroscope.iges.or.jp/contents/APEIS/RISPO/inventory/',\n",
       "  'db/pdf/0097.pdf'),\n",
       " ('//eur-lex.europa.eu/LexUriSeru/', 'LexUriServ.do'),\n",
       " ('//facultv.haas.berkelev.edU/wolfram/P', 'apers/paper_draft_06_'),\n",
       " ('//minorityrights.org/',\n",
       "  'wp-content/uploads/old-site-downloads/download-150-Batwa-Pygmies-of-the-Great-Lakes-Region.pdf'),\n",
       " ('//science.sciencemag.org/content/sci/309/', '5742/1844.full.pdf'),\n",
       " ('//stalcubc.at/statistik.at/cxt/statcubc/isf/tablcVicw/tablc', 'View.xhtml'),\n",
       " ('//totalspectrumsaa.com/press/erik-autor-testifies-on-l3cev-act-fehruarv-2014',\n",
       "  'IINAS'),\n",
       " ('//unfccc.int/national_reports/',\n",
       "  'annex_i_natcom/submitted_natcom/items/4903.php'),\n",
       " ('//w', 'ww.ihei.org/wn-conieni/unloads/2014A'),\n",
       " (\"//www'.natura2000.hr/Home\", '.aspx'),\n",
       " ('//www.academia.edu/2755320/Nation-al_Infrastructure_Planning_A_Holistic_Approach_',\n",
       "  'to_Policy_Development_in_Developing_Countries'),\n",
       " ('//www.africa-union.org/root/au/conferences/past/2006/may/summit/doc/en/',\n",
       "  'UNGASS_Common_Position.pdf'),\n",
       " ('//www.ccamlr.0rg/pu/e/', 'cds/intro.htm'),\n",
       " ('//www.e-unwto.org/doi/', 'pdf/10.18111/9789284418145'),\n",
       " ('//www.envir.ee/orb.aw/class=file/',\n",
       "  'action=preview/id=1187006/Eesti+elanike+keskkonnateadlikkus2012aruanne'),\n",
       " ('//www.eri.chula.ac.th/eri-main/wp-content/upIoads/2016/01/Thailand-Renewable-Development-Status-and-Recommendations',\n",
       "  'Tongsopit.pdf.In'),\n",
       " ('//www.eurasia.undp.org/content/rbec/en/home/library/environment_energy/',\n",
       "  'Development_stories_from_Europe_and_Central_Asia_Volume_lll.html'),\n",
       " ('//www.fao.org/', 'worldfoodsituation/wfs-home/foodpricesindex/en'),\n",
       " ('//www.ieep.eu/work-areas/biodiversity/financing-biodiversity/',\n",
       "  '2013/01/socio-economic-socio-economic-importance-of-ecosystem-services-in-the-nordic-countries-syn'),\n",
       " ('//www.ilo.org/employment/areas/',\n",
       "  'youth-employment/WCMS_627307/lang—en/index.htm.There'),\n",
       " ('//www.ilo.org/sapfl/lnformationresources/Factsheetsandbroch',\n",
       "  'ures/WCMS_105036/lang-en/index.htm'),\n",
       " ('//www.ilo.org/tocmsp5/',\n",
       "  'groups/public/—ed_norm/—reteonfcrdocuments/meetingdocument/wcms_157834.pdf'),\n",
       " ('//www.ilo.org/wcmsp5/groups/public/-dgreports/—dcomm/—publ/',\n",
       "  'documents/publication/wcms_513739.pdf'),\n",
       " ('//www.imshealth.com/deployedfiles/imshealth/Global/Content/Corporate/IMS',\n",
       "  'Institute/RUOM-2013/IHII_Responsible_Use_Medicines_2013.pdf'),\n",
       " ('//www.inatsisartut.gl/',\n",
       "  'inatsisartuthome/sammensaetning-af-inatsisartut.aspx'),\n",
       " ('//www.itu.int/en/ITU-D/',\n",
       "  'Statistics/Pages/intlcoop/partnership/members.aspx'),\n",
       " ('//www.nab.vu/sites/default/',\n",
       "  'files/nab/vanuatu_cc_drr_policy_minus_att4v4.pdf'),\n",
       " ('//www.nordicenergysolutions.org', 'Orkustofnun'),\n",
       " ('//www.un.org/development/desa/dpad/wp-content/uploads/sites/45/',\n",
       "  'publication/2017_Aug_Frontier-Issues-l.pdf'),\n",
       " ('//www.whoindia.org/LinkFiles/Commision_on_',\n",
       "  'Macroeconomic_and_Health_01_01.pdf'),\n",
       " ('/Users/thevenon', 'o/Downloads/4448-157-5923-l-10-20180213.pdf'),\n",
       " ('/technical', 'recommendations.Iraq'),\n",
       " ('0.102', '3/A'),\n",
       " ('0rganik', 'Granular'),\n",
       " ('1,500-2,500', 'rial'),\n",
       " ('1,858', 'KWh/m2yr'),\n",
       " ('1.535', 'billion38'),\n",
       " ('10.111', 'l/conl.12180'),\n",
       " ('10.5.A', 'multi-sided'),\n",
       " ('1184', 'LUEPs'),\n",
       " ('120-150', 'kg/person/year'),\n",
       " ('1240', 'MW.Albert'),\n",
       " ('126-12', '745'),\n",
       " ('13,575', 'coot'),\n",
       " ('131.6', 'billion.For'),\n",
       " ('14.39', 'million.Given'),\n",
       " ('14/FIN', 'AL'),\n",
       " ('16-19', 'bursary'),\n",
       " ('16-75', 'households.At'),\n",
       " ('16USC', '755-757'),\n",
       " ('17-year-old', 'fiance'),\n",
       " ('18.74', 'million.Government'),\n",
       " ('18—a', 'pra'),\n",
       " ('1980s.Chinese', 'Atademy'),\n",
       " ('1998-the', 'hottest'),\n",
       " ('2,025', 'phe-nobarbital'),\n",
       " ('2,315', 'yuan'),\n",
       " ('2,900', 'ha.It'),\n",
       " ('2,950', 'species/subspecies'),\n",
       " ('2.47', 'acres.As'),\n",
       " ('20-23', 'MCM/yr45'),\n",
       " ('2000-', '2010.Such'),\n",
       " ('2002a', 'p.iii'),\n",
       " ('2007/08.This', 'reprioritization'),\n",
       " ('2008-June', '2009.There'),\n",
       " ('2011-2019', 'MOWA'),\n",
       " ('2012-A', 'Look'),\n",
       " ('2017—a', '41-per'),\n",
       " ('224,000', 'ha.Building'),\n",
       " ('25,000-gallon', 'cistern'),\n",
       " ('250-950', 'AD'),\n",
       " ('270,000', 'ha.37'),\n",
       " ('294.4', 'million.The'),\n",
       " ('3.4°C', 'warming.317')]"
      ]
     },
     "execution_count": 31,
     "metadata": {},
     "output_type": "execute_result"
    }
   ],
   "source": [
    "measures = collocations.BigramAssocMeasures()\n",
    "c = collocations.BigramCollocationFinder.from_words(tokens)\n",
    "c.nbest(measures.pmi,100)"
   ]
  },
  {
   "cell_type": "code",
   "execution_count": 32,
   "metadata": {},
   "outputs": [
    {
     "data": {
      "text/plain": [
       "<nltk.metrics.association.BigramAssocMeasures at 0x300fdb950>"
      ]
     },
     "execution_count": 32,
     "metadata": {},
     "output_type": "execute_result"
    }
   ],
   "source": [
    "measures"
   ]
  },
  {
   "cell_type": "markdown",
   "metadata": {},
   "source": [
    "### Using wordnet\n",
    "\n",
    "http://wordnetweb.princeton.edu/perl/webwn?s=good&sub=Search+WordNet&o2=&o0=1&o8=1&o1=1&o7=&o5=&o9=&o6=&o3=&o4=&h=\n"
   ]
  },
  {
   "cell_type": "code",
   "execution_count": 38,
   "metadata": {},
   "outputs": [
    {
     "data": {
      "text/plain": [
       "([Synset('survey.n.01'),\n",
       "  Synset('study.n.02'),\n",
       "  Synset('report.n.01'),\n",
       "  Synset('study.n.04'),\n",
       "  Synset('study.n.05'),\n",
       "  Synset('discipline.n.01'),\n",
       "  Synset('sketch.n.01'),\n",
       "  Synset('cogitation.n.02'),\n",
       "  Synset('study.n.09'),\n",
       "  Synset('study.n.10'),\n",
       "  Synset('analyze.v.01'),\n",
       "  Synset('study.v.02'),\n",
       "  Synset('study.v.03'),\n",
       "  Synset('learn.v.04'),\n",
       "  Synset('study.v.05'),\n",
       "  Synset('study.v.06')],\n",
       " [Synset('analyze.v.01'),\n",
       "  Synset('study.v.02'),\n",
       "  Synset('study.v.03'),\n",
       "  Synset('learn.v.04'),\n",
       "  Synset('study.v.05'),\n",
       "  Synset('study.v.06')])"
      ]
     },
     "execution_count": 38,
     "metadata": {},
     "output_type": "execute_result"
    }
   ],
   "source": [
    "from nltk.corpus import wordnet\n",
    "wordnet.synsets('study'),wordnet.synsets('study', pos=wordnet.VERB)"
   ]
  },
  {
   "cell_type": "code",
   "execution_count": 39,
   "metadata": {},
   "outputs": [
    {
     "data": {
      "text/plain": [
       "([Synset('dog.n.01'),\n",
       "  Synset('frump.n.01'),\n",
       "  Synset('dog.n.03'),\n",
       "  Synset('cad.n.01'),\n",
       "  Synset('frank.n.02'),\n",
       "  Synset('pawl.n.01'),\n",
       "  Synset('andiron.n.01'),\n",
       "  Synset('chase.v.01')],\n",
       " [Synset('chase.v.01')])"
      ]
     },
     "execution_count": 39,
     "metadata": {},
     "output_type": "execute_result"
    }
   ],
   "source": [
    "wordnet.synsets('dog'),wordnet.synsets('dog', pos=wordnet.VERB)"
   ]
  },
  {
   "cell_type": "code",
   "execution_count": 34,
   "metadata": {},
   "outputs": [
    {
     "name": "stdout",
     "output_type": "stream",
     "text": [
      "{'ripe', 'in_effect', 'soundly', 'expert', 'upright', 'estimable', 'adept', 'well', 'salutary', 'dear', 'dependable', 'safe', 'right', 'undecomposed', 'near', 'unspoilt', 'just', 'trade_good', 'skillful', 'unspoiled', 'serious', 'skilful', 'proficient', 'in_force', 'beneficial', 'secure', 'sound', 'thoroughly', 'full', 'commodity', 'practiced', 'effective', 'honest', 'respectable', 'good', 'goodness', 'honorable'}\n",
      "{'evil', 'ill', 'badness', 'bad', 'evilness'}\n"
     ]
    }
   ],
   "source": [
    "synonyms = []\n",
    "antonyms = []\n",
    "\n",
    "for syn in wordnet.synsets(\"good\"):\n",
    "    for l in syn.lemmas():\n",
    "        synonyms.append(l.name())\n",
    "        if l.antonyms():\n",
    "            antonyms.append(l.antonyms()[0].name())\n",
    "\n",
    "print(set(synonyms))\n",
    "print(set(antonyms))"
   ]
  },
  {
   "cell_type": "markdown",
   "metadata": {},
   "source": [
    "examples of word usage of \"good\""
   ]
  },
  {
   "cell_type": "code",
   "execution_count": 35,
   "metadata": {},
   "outputs": [
    {
     "data": {
      "text/plain": [
       "['for your own good', \"what's the good of worrying?\"]"
      ]
     },
     "execution_count": 35,
     "metadata": {},
     "output_type": "execute_result"
    }
   ],
   "source": [
    "wordnet.synsets(\"good\")[0].examples()"
   ]
  },
  {
   "cell_type": "markdown",
   "metadata": {},
   "source": [
    "Similarity betwwen words"
   ]
  },
  {
   "cell_type": "code",
   "execution_count": 36,
   "metadata": {},
   "outputs": [
    {
     "name": "stdout",
     "output_type": "stream",
     "text": [
      "0.9090909090909091\n",
      "0.6956521739130435\n",
      "0.32\n",
      "0.6956521739130435\n",
      "0.32\n",
      "0.32\n"
     ]
    }
   ],
   "source": [
    "w1 = wordnet.synset('ship.n.01')\n",
    "w2 = wordnet.synset('boat.n.01')\n",
    "w3 = wordnet.synset('car.n.01')\n",
    "w4 = wordnet.synset('cat.n.01')\n",
    "print(w1.wup_similarity(w2))\n",
    "print(w1.wup_similarity(w3))\n",
    "print(w1.wup_similarity(w4))\n",
    "print(w2.wup_similarity(w3))\n",
    "print(w2.wup_similarity(w4))\n",
    "print(w3.wup_similarity(w4))"
   ]
  },
  {
   "cell_type": "code",
   "execution_count": 37,
   "metadata": {},
   "outputs": [
    {
     "name": "stdout",
     "output_type": "stream",
     "text": [
      "False\n",
      "False\n",
      "True\n"
     ]
    }
   ],
   "source": [
    "#string operations\n",
    "temp='start'\n",
    "print(temp.startswith('S'))\n",
    "print('w' in temp)\n",
    "print('a' in temp)"
   ]
  }
 ],
 "metadata": {
  "kernelspec": {
   "display_name": "nlp",
   "language": "python",
   "name": "python3"
  },
  "language_info": {
   "codemirror_mode": {
    "name": "ipython",
    "version": 3
   },
   "file_extension": ".py",
   "mimetype": "text/x-python",
   "name": "python",
   "nbconvert_exporter": "python",
   "pygments_lexer": "ipython3",
   "version": "3.12.2"
  },
  "orig_nbformat": 4
 },
 "nbformat": 4,
 "nbformat_minor": 2
}
