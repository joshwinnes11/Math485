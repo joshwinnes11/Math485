{
 "cells": [
  {
   "cell_type": "markdown",
   "metadata": {},
   "source": [
    "# **Week 2**\n",
    "### Josh Winnes\n",
    "### Topics in Data Science\n",
    "### September 10, 2024"
   ]
  },
  {
   "cell_type": "markdown",
   "metadata": {},
   "source": [
    "---\n",
    "---"
   ]
  },
  {
   "cell_type": "markdown",
   "metadata": {},
   "source": [
    "## **Data Setup**"
   ]
  },
  {
   "cell_type": "code",
   "execution_count": 1,
   "metadata": {},
   "outputs": [
    {
     "name": "stderr",
     "output_type": "stream",
     "text": [
      "/Users/joshwinnes/Library/Mobile Documents/com~apple~CloudDocs/Wheaton College/fall 2024/topics in data science/Math485/dhs_util.py:42: FutureWarning: The default of observed=False is deprecated and will be changed to True in a future version of pandas. Pass observed=False to retain current behavior or observed=True to adopt the future default and silence this warning.\n",
      "  recipient = df.groupby(df['id'].cat.remove_unused_categories()).agg(\n"
     ]
    }
   ],
   "source": [
    "import pandas as pd\n",
    "import numpy as np\n",
    "import matplotlib as plt\n",
    "import seaborn as sns\n",
    "import os\n",
    "\n",
    "import dhs_util\n",
    "from dhs_util import * \n",
    "\n",
    "os.chdir('/Users/joshwinnes/Library/Mobile Documents/com~apple~CloudDocs/Wheaton College/fall 2024/topics in data science/data')\n",
    "df = pd.read_csv('dhs_service_records_synthesized_final.csv')\n",
    "\n",
    "df = dhs_preprocessing(df)\n",
    "df, service_map = add_service_label(df)\n",
    "df = add_age_bin(df)\n",
    "\n",
    "recipient = get_recipient_attribute(df)"
   ]
  },
  {
   "cell_type": "code",
   "execution_count": 2,
   "metadata": {},
   "outputs": [
    {
     "data": {
      "text/html": [
       "<div>\n",
       "<style scoped>\n",
       "    .dataframe tbody tr th:only-of-type {\n",
       "        vertical-align: middle;\n",
       "    }\n",
       "\n",
       "    .dataframe tbody tr th {\n",
       "        vertical-align: top;\n",
       "    }\n",
       "\n",
       "    .dataframe thead th {\n",
       "        text-align: right;\n",
       "    }\n",
       "</style>\n",
       "<table border=\"1\" class=\"dataframe\">\n",
       "  <thead>\n",
       "    <tr style=\"text-align: right;\">\n",
       "      <th></th>\n",
       "      <th>id</th>\n",
       "      <th>date</th>\n",
       "      <th>service</th>\n",
       "      <th>age</th>\n",
       "      <th>gender</th>\n",
       "      <th>race</th>\n",
       "      <th>ethnicity</th>\n",
       "      <th>marital</th>\n",
       "      <th>education</th>\n",
       "      <th>month</th>\n",
       "      <th>serv</th>\n",
       "      <th>age_bin</th>\n",
       "    </tr>\n",
       "  </thead>\n",
       "  <tbody>\n",
       "    <tr>\n",
       "      <th>0</th>\n",
       "      <td>1626</td>\n",
       "      <td>2021-01-31</td>\n",
       "      <td>Children_Attending_Early_Childhood_Programs_Ma...</td>\n",
       "      <td>5</td>\n",
       "      <td>1~Male</td>\n",
       "      <td>1~White</td>\n",
       "      <td>99~Unknown</td>\n",
       "      <td>99~Unknown</td>\n",
       "      <td>9-12~High School (grade 9-12)</td>\n",
       "      <td>January</td>\n",
       "      <td>S01</td>\n",
       "      <td>0-9</td>\n",
       "    </tr>\n",
       "    <tr>\n",
       "      <th>1</th>\n",
       "      <td>1626</td>\n",
       "      <td>2021-02-28</td>\n",
       "      <td>Children_Attending_Early_Childhood_Programs_Ma...</td>\n",
       "      <td>5</td>\n",
       "      <td>1~Male</td>\n",
       "      <td>1~White</td>\n",
       "      <td>99~Unknown</td>\n",
       "      <td>99~Unknown</td>\n",
       "      <td>9-12~High School (grade 9-12)</td>\n",
       "      <td>February</td>\n",
       "      <td>S01</td>\n",
       "      <td>0-9</td>\n",
       "    </tr>\n",
       "    <tr>\n",
       "      <th>2</th>\n",
       "      <td>1626</td>\n",
       "      <td>2021-03-31</td>\n",
       "      <td>Children_Attending_Early_Childhood_Programs_Ma...</td>\n",
       "      <td>5</td>\n",
       "      <td>1~Male</td>\n",
       "      <td>1~White</td>\n",
       "      <td>99~Unknown</td>\n",
       "      <td>99~Unknown</td>\n",
       "      <td>9-12~High School (grade 9-12)</td>\n",
       "      <td>March</td>\n",
       "      <td>S01</td>\n",
       "      <td>0-9</td>\n",
       "    </tr>\n",
       "    <tr>\n",
       "      <th>3</th>\n",
       "      <td>1626</td>\n",
       "      <td>2021-04-30</td>\n",
       "      <td>Children_Attending_Early_Childhood_Programs_Ma...</td>\n",
       "      <td>5</td>\n",
       "      <td>1~Male</td>\n",
       "      <td>1~White</td>\n",
       "      <td>99~Unknown</td>\n",
       "      <td>99~Unknown</td>\n",
       "      <td>9-12~High School (grade 9-12)</td>\n",
       "      <td>April</td>\n",
       "      <td>S01</td>\n",
       "      <td>0-9</td>\n",
       "    </tr>\n",
       "    <tr>\n",
       "      <th>4</th>\n",
       "      <td>1626</td>\n",
       "      <td>2021-05-31</td>\n",
       "      <td>Children_Attending_Early_Childhood_Programs_Ma...</td>\n",
       "      <td>5</td>\n",
       "      <td>1~Male</td>\n",
       "      <td>1~White</td>\n",
       "      <td>99~Unknown</td>\n",
       "      <td>99~Unknown</td>\n",
       "      <td>9-12~High School (grade 9-12)</td>\n",
       "      <td>May</td>\n",
       "      <td>S01</td>\n",
       "      <td>0-9</td>\n",
       "    </tr>\n",
       "  </tbody>\n",
       "</table>\n",
       "</div>"
      ],
      "text/plain": [
       "     id       date                                            service  age  \\\n",
       "0  1626 2021-01-31  Children_Attending_Early_Childhood_Programs_Ma...    5   \n",
       "1  1626 2021-02-28  Children_Attending_Early_Childhood_Programs_Ma...    5   \n",
       "2  1626 2021-03-31  Children_Attending_Early_Childhood_Programs_Ma...    5   \n",
       "3  1626 2021-04-30  Children_Attending_Early_Childhood_Programs_Ma...    5   \n",
       "4  1626 2021-05-31  Children_Attending_Early_Childhood_Programs_Ma...    5   \n",
       "\n",
       "   gender     race   ethnicity     marital                      education  \\\n",
       "0  1~Male  1~White  99~Unknown  99~Unknown  9-12~High School (grade 9-12)   \n",
       "1  1~Male  1~White  99~Unknown  99~Unknown  9-12~High School (grade 9-12)   \n",
       "2  1~Male  1~White  99~Unknown  99~Unknown  9-12~High School (grade 9-12)   \n",
       "3  1~Male  1~White  99~Unknown  99~Unknown  9-12~High School (grade 9-12)   \n",
       "4  1~Male  1~White  99~Unknown  99~Unknown  9-12~High School (grade 9-12)   \n",
       "\n",
       "      month serv age_bin  \n",
       "0   January  S01     0-9  \n",
       "1  February  S01     0-9  \n",
       "2     March  S01     0-9  \n",
       "3     April  S01     0-9  \n",
       "4       May  S01     0-9  "
      ]
     },
     "execution_count": 2,
     "metadata": {},
     "output_type": "execute_result"
    }
   ],
   "source": [
    "df.head()"
   ]
  },
  {
   "cell_type": "code",
   "execution_count": 3,
   "metadata": {},
   "outputs": [
    {
     "data": {
      "text/html": [
       "<div>\n",
       "<style scoped>\n",
       "    .dataframe tbody tr th:only-of-type {\n",
       "        vertical-align: middle;\n",
       "    }\n",
       "\n",
       "    .dataframe tbody tr th {\n",
       "        vertical-align: top;\n",
       "    }\n",
       "\n",
       "    .dataframe thead th {\n",
       "        text-align: right;\n",
       "    }\n",
       "</style>\n",
       "<table border=\"1\" class=\"dataframe\">\n",
       "  <thead>\n",
       "    <tr style=\"text-align: right;\">\n",
       "      <th></th>\n",
       "      <th>id</th>\n",
       "      <th>num_service</th>\n",
       "      <th>distinct_service</th>\n",
       "      <th>first_date</th>\n",
       "      <th>last_date</th>\n",
       "      <th>num_month</th>\n",
       "      <th>distinct_month</th>\n",
       "      <th>age</th>\n",
       "      <th>gender</th>\n",
       "      <th>race</th>\n",
       "      <th>ethnicity</th>\n",
       "      <th>marital</th>\n",
       "      <th>education</th>\n",
       "      <th>serv</th>\n",
       "      <th>age_bin</th>\n",
       "    </tr>\n",
       "  </thead>\n",
       "  <tbody>\n",
       "    <tr>\n",
       "      <th>0</th>\n",
       "      <td>1</td>\n",
       "      <td>12</td>\n",
       "      <td>1</td>\n",
       "      <td>2021-01-31</td>\n",
       "      <td>2021-12-31</td>\n",
       "      <td>12</td>\n",
       "      <td>12</td>\n",
       "      <td>13</td>\n",
       "      <td>1~Male</td>\n",
       "      <td>99~Unknown</td>\n",
       "      <td>2~Not Hispanic/Latinx</td>\n",
       "      <td>99~Unknown</td>\n",
       "      <td>GED~High School Diploma/GED Completed</td>\n",
       "      <td>S12</td>\n",
       "      <td>10-19</td>\n",
       "    </tr>\n",
       "    <tr>\n",
       "      <th>12</th>\n",
       "      <td>2</td>\n",
       "      <td>1</td>\n",
       "      <td>1</td>\n",
       "      <td>2021-02-28</td>\n",
       "      <td>2021-02-28</td>\n",
       "      <td>1</td>\n",
       "      <td>1</td>\n",
       "      <td>70</td>\n",
       "      <td>2~Female</td>\n",
       "      <td>1~White</td>\n",
       "      <td>2~Not Hispanic/Latinx</td>\n",
       "      <td>2~Married</td>\n",
       "      <td>99~Unknown</td>\n",
       "      <td>S12</td>\n",
       "      <td>70-79</td>\n",
       "    </tr>\n",
       "    <tr>\n",
       "      <th>13</th>\n",
       "      <td>3</td>\n",
       "      <td>11</td>\n",
       "      <td>1</td>\n",
       "      <td>2021-02-28</td>\n",
       "      <td>2021-12-31</td>\n",
       "      <td>11</td>\n",
       "      <td>11</td>\n",
       "      <td>29</td>\n",
       "      <td>2~Female</td>\n",
       "      <td>1~White</td>\n",
       "      <td>2~Not Hispanic/Latinx</td>\n",
       "      <td>2~Married</td>\n",
       "      <td>9-12~High School (grade 9-12)</td>\n",
       "      <td>S12</td>\n",
       "      <td>20-29</td>\n",
       "    </tr>\n",
       "    <tr>\n",
       "      <th>24</th>\n",
       "      <td>4</td>\n",
       "      <td>4</td>\n",
       "      <td>1</td>\n",
       "      <td>2021-03-31</td>\n",
       "      <td>2021-12-31</td>\n",
       "      <td>4</td>\n",
       "      <td>4</td>\n",
       "      <td>4</td>\n",
       "      <td>2~Female</td>\n",
       "      <td>1~White</td>\n",
       "      <td>2~Not Hispanic/Latinx</td>\n",
       "      <td>1~Single-Never Married</td>\n",
       "      <td>9-12~High School (grade 9-12)</td>\n",
       "      <td>S12</td>\n",
       "      <td>0-9</td>\n",
       "    </tr>\n",
       "    <tr>\n",
       "      <th>28</th>\n",
       "      <td>5</td>\n",
       "      <td>12</td>\n",
       "      <td>1</td>\n",
       "      <td>2021-01-31</td>\n",
       "      <td>2021-12-31</td>\n",
       "      <td>12</td>\n",
       "      <td>12</td>\n",
       "      <td>40</td>\n",
       "      <td>1~Male</td>\n",
       "      <td>2~Black/African American</td>\n",
       "      <td>2~Not Hispanic/Latinx</td>\n",
       "      <td>2~Married</td>\n",
       "      <td>UNDERGRAD~Some College</td>\n",
       "      <td>S12</td>\n",
       "      <td>40-49</td>\n",
       "    </tr>\n",
       "  </tbody>\n",
       "</table>\n",
       "</div>"
      ],
      "text/plain": [
       "   id  num_service  distinct_service first_date  last_date  num_month  \\\n",
       "0   1           12                 1 2021-01-31 2021-12-31         12   \n",
       "12  2            1                 1 2021-02-28 2021-02-28          1   \n",
       "13  3           11                 1 2021-02-28 2021-12-31         11   \n",
       "24  4            4                 1 2021-03-31 2021-12-31          4   \n",
       "28  5           12                 1 2021-01-31 2021-12-31         12   \n",
       "\n",
       "    distinct_month  age    gender                      race  \\\n",
       "0               12   13    1~Male                99~Unknown   \n",
       "12               1   70  2~Female                   1~White   \n",
       "13              11   29  2~Female                   1~White   \n",
       "24               4    4  2~Female                   1~White   \n",
       "28              12   40    1~Male  2~Black/African American   \n",
       "\n",
       "                ethnicity                 marital  \\\n",
       "0   2~Not Hispanic/Latinx              99~Unknown   \n",
       "12  2~Not Hispanic/Latinx               2~Married   \n",
       "13  2~Not Hispanic/Latinx               2~Married   \n",
       "24  2~Not Hispanic/Latinx  1~Single-Never Married   \n",
       "28  2~Not Hispanic/Latinx               2~Married   \n",
       "\n",
       "                                education serv age_bin  \n",
       "0   GED~High School Diploma/GED Completed  S12   10-19  \n",
       "12                             99~Unknown  S12   70-79  \n",
       "13          9-12~High School (grade 9-12)  S12   20-29  \n",
       "24          9-12~High School (grade 9-12)  S12     0-9  \n",
       "28                 UNDERGRAD~Some College  S12   40-49  "
      ]
     },
     "execution_count": 3,
     "metadata": {},
     "output_type": "execute_result"
    }
   ],
   "source": [
    "recipient.head()"
   ]
  },
  {
   "cell_type": "markdown",
   "metadata": {},
   "source": [
    "---\n",
    "---"
   ]
  },
  {
   "cell_type": "markdown",
   "metadata": {},
   "source": [
    "## **In Class Exercises**"
   ]
  },
  {
   "cell_type": "markdown",
   "metadata": {},
   "source": [
    "### ***Tuesday, September 10, 2024***"
   ]
  },
  {
   "cell_type": "markdown",
   "metadata": {},
   "source": [
    "### Exercise 1: How many recipients receive services every month in the year? "
   ]
  },
  {
   "cell_type": "code",
   "execution_count": 5,
   "metadata": {},
   "outputs": [
    {
     "data": {
      "text/plain": [
       "id                  421900\n",
       "num_service         421900\n",
       "distinct_service    421900\n",
       "first_date          421900\n",
       "last_date           421900\n",
       "num_month           421900\n",
       "distinct_month      421900\n",
       "age                 421900\n",
       "gender              421900\n",
       "race                421900\n",
       "ethnicity           421900\n",
       "marital             421900\n",
       "education           421900\n",
       "serv                421900\n",
       "age_bin             421900\n",
       "dtype: int64"
      ]
     },
     "execution_count": 5,
     "metadata": {},
     "output_type": "execute_result"
    }
   ],
   "source": [
    "recipient.query(\"distinct_month == 12 and num_service > 0\").count()"
   ]
  },
  {
   "cell_type": "markdown",
   "metadata": {},
   "source": [
    "We see that **421,900** recipients receive at least 1 service in every month."
   ]
  },
  {
   "cell_type": "markdown",
   "metadata": {},
   "source": [
    "### Exercise 2: What is the average number of services a recipient use? "
   ]
  },
  {
   "cell_type": "code",
   "execution_count": 6,
   "metadata": {},
   "outputs": [
    {
     "data": {
      "text/plain": [
       "13.331111523251261"
      ]
     },
     "execution_count": 6,
     "metadata": {},
     "output_type": "execute_result"
    }
   ],
   "source": [
    "recipient['num_service'].mean()"
   ]
  },
  {
   "cell_type": "markdown",
   "metadata": {},
   "source": [
    "Recipients use, on average, **13.331** services"
   ]
  },
  {
   "cell_type": "markdown",
   "metadata": {},
   "source": [
    "### Exercise 3: If we remove the recipients who uses only one service in the year, what are the answers to the above questions?"
   ]
  },
  {
   "cell_type": "code",
   "execution_count": 11,
   "metadata": {},
   "outputs": [
    {
     "data": {
      "text/html": [
       "<div>\n",
       "<style scoped>\n",
       "    .dataframe tbody tr th:only-of-type {\n",
       "        vertical-align: middle;\n",
       "    }\n",
       "\n",
       "    .dataframe tbody tr th {\n",
       "        vertical-align: top;\n",
       "    }\n",
       "\n",
       "    .dataframe thead th {\n",
       "        text-align: right;\n",
       "    }\n",
       "</style>\n",
       "<table border=\"1\" class=\"dataframe\">\n",
       "  <thead>\n",
       "    <tr style=\"text-align: right;\">\n",
       "      <th></th>\n",
       "      <th>index</th>\n",
       "      <th>id</th>\n",
       "      <th>num_service</th>\n",
       "      <th>distinct_service</th>\n",
       "      <th>first_date</th>\n",
       "      <th>last_date</th>\n",
       "      <th>num_month</th>\n",
       "      <th>distinct_month</th>\n",
       "      <th>age</th>\n",
       "      <th>gender</th>\n",
       "      <th>race</th>\n",
       "      <th>ethnicity</th>\n",
       "      <th>marital</th>\n",
       "      <th>education</th>\n",
       "      <th>serv</th>\n",
       "      <th>age_bin</th>\n",
       "    </tr>\n",
       "  </thead>\n",
       "  <tbody>\n",
       "    <tr>\n",
       "      <th>0</th>\n",
       "      <td>0</td>\n",
       "      <td>1</td>\n",
       "      <td>12</td>\n",
       "      <td>1</td>\n",
       "      <td>2021-01-31</td>\n",
       "      <td>2021-12-31</td>\n",
       "      <td>12</td>\n",
       "      <td>12</td>\n",
       "      <td>13</td>\n",
       "      <td>1~Male</td>\n",
       "      <td>99~Unknown</td>\n",
       "      <td>2~Not Hispanic/Latinx</td>\n",
       "      <td>99~Unknown</td>\n",
       "      <td>GED~High School Diploma/GED Completed</td>\n",
       "      <td>S12</td>\n",
       "      <td>10-19</td>\n",
       "    </tr>\n",
       "    <tr>\n",
       "      <th>1</th>\n",
       "      <td>13</td>\n",
       "      <td>3</td>\n",
       "      <td>11</td>\n",
       "      <td>1</td>\n",
       "      <td>2021-02-28</td>\n",
       "      <td>2021-12-31</td>\n",
       "      <td>11</td>\n",
       "      <td>11</td>\n",
       "      <td>29</td>\n",
       "      <td>2~Female</td>\n",
       "      <td>1~White</td>\n",
       "      <td>2~Not Hispanic/Latinx</td>\n",
       "      <td>2~Married</td>\n",
       "      <td>9-12~High School (grade 9-12)</td>\n",
       "      <td>S12</td>\n",
       "      <td>20-29</td>\n",
       "    </tr>\n",
       "    <tr>\n",
       "      <th>2</th>\n",
       "      <td>24</td>\n",
       "      <td>4</td>\n",
       "      <td>4</td>\n",
       "      <td>1</td>\n",
       "      <td>2021-03-31</td>\n",
       "      <td>2021-12-31</td>\n",
       "      <td>4</td>\n",
       "      <td>4</td>\n",
       "      <td>4</td>\n",
       "      <td>2~Female</td>\n",
       "      <td>1~White</td>\n",
       "      <td>2~Not Hispanic/Latinx</td>\n",
       "      <td>1~Single-Never Married</td>\n",
       "      <td>9-12~High School (grade 9-12)</td>\n",
       "      <td>S12</td>\n",
       "      <td>0-9</td>\n",
       "    </tr>\n",
       "    <tr>\n",
       "      <th>3</th>\n",
       "      <td>28</td>\n",
       "      <td>5</td>\n",
       "      <td>12</td>\n",
       "      <td>1</td>\n",
       "      <td>2021-01-31</td>\n",
       "      <td>2021-12-31</td>\n",
       "      <td>12</td>\n",
       "      <td>12</td>\n",
       "      <td>40</td>\n",
       "      <td>1~Male</td>\n",
       "      <td>2~Black/African American</td>\n",
       "      <td>2~Not Hispanic/Latinx</td>\n",
       "      <td>2~Married</td>\n",
       "      <td>UNDERGRAD~Some College</td>\n",
       "      <td>S12</td>\n",
       "      <td>40-49</td>\n",
       "    </tr>\n",
       "    <tr>\n",
       "      <th>4</th>\n",
       "      <td>40</td>\n",
       "      <td>6</td>\n",
       "      <td>24</td>\n",
       "      <td>3</td>\n",
       "      <td>2021-01-31</td>\n",
       "      <td>2021-12-31</td>\n",
       "      <td>24</td>\n",
       "      <td>12</td>\n",
       "      <td>71</td>\n",
       "      <td>2~Female</td>\n",
       "      <td>2~Black/African American</td>\n",
       "      <td>2~Not Hispanic/Latinx</td>\n",
       "      <td>1~Single-Never Married</td>\n",
       "      <td>99~Unknown</td>\n",
       "      <td>S09</td>\n",
       "      <td>70-79</td>\n",
       "    </tr>\n",
       "  </tbody>\n",
       "</table>\n",
       "</div>"
      ],
      "text/plain": [
       "   index id  num_service  distinct_service first_date  last_date  num_month  \\\n",
       "0      0  1           12                 1 2021-01-31 2021-12-31         12   \n",
       "1     13  3           11                 1 2021-02-28 2021-12-31         11   \n",
       "2     24  4            4                 1 2021-03-31 2021-12-31          4   \n",
       "3     28  5           12                 1 2021-01-31 2021-12-31         12   \n",
       "4     40  6           24                 3 2021-01-31 2021-12-31         24   \n",
       "\n",
       "   distinct_month  age    gender                      race  \\\n",
       "0              12   13    1~Male                99~Unknown   \n",
       "1              11   29  2~Female                   1~White   \n",
       "2               4    4  2~Female                   1~White   \n",
       "3              12   40    1~Male  2~Black/African American   \n",
       "4              12   71  2~Female  2~Black/African American   \n",
       "\n",
       "               ethnicity                 marital  \\\n",
       "0  2~Not Hispanic/Latinx              99~Unknown   \n",
       "1  2~Not Hispanic/Latinx               2~Married   \n",
       "2  2~Not Hispanic/Latinx  1~Single-Never Married   \n",
       "3  2~Not Hispanic/Latinx               2~Married   \n",
       "4  2~Not Hispanic/Latinx  1~Single-Never Married   \n",
       "\n",
       "                               education serv age_bin  \n",
       "0  GED~High School Diploma/GED Completed  S12   10-19  \n",
       "1          9-12~High School (grade 9-12)  S12   20-29  \n",
       "2          9-12~High School (grade 9-12)  S12     0-9  \n",
       "3                 UNDERGRAD~Some College  S12   40-49  \n",
       "4                             99~Unknown  S09   70-79  "
      ]
     },
     "execution_count": 11,
     "metadata": {},
     "output_type": "execute_result"
    }
   ],
   "source": [
    "recipient_more_than_one = recipient.query(\"num_service != 1\").reset_index()\n",
    "recipient_more_than_one.head()"
   ]
  },
  {
   "cell_type": "code",
   "execution_count": 12,
   "metadata": {},
   "outputs": [
    {
     "data": {
      "text/plain": [
       "index               421900\n",
       "id                  421900\n",
       "num_service         421900\n",
       "distinct_service    421900\n",
       "first_date          421900\n",
       "last_date           421900\n",
       "num_month           421900\n",
       "distinct_month      421900\n",
       "age                 421900\n",
       "gender              421900\n",
       "race                421900\n",
       "ethnicity           421900\n",
       "marital             421900\n",
       "education           421900\n",
       "serv                421900\n",
       "age_bin             421900\n",
       "dtype: int64"
      ]
     },
     "execution_count": 12,
     "metadata": {},
     "output_type": "execute_result"
    }
   ],
   "source": [
    "recipient_more_than_one.query(\"distinct_month == 12 and num_service > 0\").count()"
   ]
  },
  {
   "cell_type": "markdown",
   "metadata": {},
   "source": [
    "There are still **421,900** recipients who receive services every month, which makes sense because if they receive service every month, then they would have more than 1 service in the year and would not have been dropped."
   ]
  },
  {
   "cell_type": "code",
   "execution_count": 13,
   "metadata": {},
   "outputs": [
    {
     "data": {
      "text/plain": [
       "13.631203741194396"
      ]
     },
     "execution_count": 13,
     "metadata": {},
     "output_type": "execute_result"
    }
   ],
   "source": [
    "recipient_more_than_one['num_service'].mean()"
   ]
  },
  {
   "cell_type": "markdown",
   "metadata": {},
   "source": [
    "The mean jumped slightly to **13.631** services per recipient when we ignore the recipients who only received 1 service."
   ]
  },
  {
   "cell_type": "markdown",
   "metadata": {},
   "source": [
    "### Exercise 4: From all the plots, can we conclude that there is little difference in the number of services used between different age/gender/race groups?"
   ]
  },
  {
   "cell_type": "code",
   "execution_count": null,
   "metadata": {},
   "outputs": [],
   "source": []
  }
 ],
 "metadata": {
  "kernelspec": {
   "display_name": "Python 3",
   "language": "python",
   "name": "python3"
  },
  "language_info": {
   "codemirror_mode": {
    "name": "ipython",
    "version": 3
   },
   "file_extension": ".py",
   "mimetype": "text/x-python",
   "name": "python",
   "nbconvert_exporter": "python",
   "pygments_lexer": "ipython3",
   "version": "3.12.1"
  },
  "orig_nbformat": 4
 },
 "nbformat": 4,
 "nbformat_minor": 2
}
