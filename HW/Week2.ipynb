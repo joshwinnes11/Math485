{
 "cells": [
  {
   "cell_type": "markdown",
   "metadata": {},
   "source": [
    "# **Week 2**\n",
    "### Josh Winnes\n",
    "### Topics in Data Science\n",
    "### September 10, 2024\n",
    "##### (Due: Tuesday, September 17)"
   ]
  },
  {
   "cell_type": "markdown",
   "metadata": {},
   "source": [
    "---\n",
    "---"
   ]
  },
  {
   "cell_type": "markdown",
   "metadata": {},
   "source": [
    "## **Data Setup**"
   ]
  },
  {
   "cell_type": "code",
   "execution_count": 202,
   "metadata": {},
   "outputs": [
    {
     "name": "stderr",
     "output_type": "stream",
     "text": [
      "/Users/joshwinnes/Library/Mobile Documents/com~apple~CloudDocs/Wheaton College/fall 2024/topics in data science/Math485/packages/dhs_util.py:42: FutureWarning: The default of observed=False is deprecated and will be changed to True in a future version of pandas. Pass observed=False to retain current behavior or observed=True to adopt the future default and silence this warning.\n",
      "  recipient = df.groupby(df['id'].cat.remove_unused_categories()).agg(\n"
     ]
    }
   ],
   "source": [
    "import pandas as pd\n",
    "import numpy as np\n",
    "import matplotlib.pyplot as plt\n",
    "import seaborn as sns\n",
    "import os\n",
    "\n",
    "import sys\n",
    "\n",
    "# Specify the path to the directory containing your script\n",
    "script_directory = '/Users/joshwinnes/Library/Mobile Documents/com~apple~CloudDocs/Wheaton College/fall 2024/topics in data science/Math485/packages'\n",
    "sys.path.append(script_directory)\n",
    "\n",
    "# Now you can import your script\n",
    "import dhs_util\n",
    "from dhs_util import * \n",
    "\n",
    "os.chdir('/Users/joshwinnes/Library/Mobile Documents/com~apple~CloudDocs/Wheaton College/fall 2024/topics in data science/data')\n",
    "df = pd.read_csv('dhs_service_records_synthesized_final.csv')\n",
    "\n",
    "df = dhs_preprocessing(df)\n",
    "df, service_map = add_service_label(df)\n",
    "df = add_age_bin(df)\n",
    "\n",
    "recipient = get_recipient_attribute(df)"
   ]
  },
  {
   "cell_type": "code",
   "execution_count": 203,
   "metadata": {},
   "outputs": [
    {
     "data": {
      "text/html": [
       "<div>\n",
       "<style scoped>\n",
       "    .dataframe tbody tr th:only-of-type {\n",
       "        vertical-align: middle;\n",
       "    }\n",
       "\n",
       "    .dataframe tbody tr th {\n",
       "        vertical-align: top;\n",
       "    }\n",
       "\n",
       "    .dataframe thead th {\n",
       "        text-align: right;\n",
       "    }\n",
       "</style>\n",
       "<table border=\"1\" class=\"dataframe\">\n",
       "  <thead>\n",
       "    <tr style=\"text-align: right;\">\n",
       "      <th></th>\n",
       "      <th>id</th>\n",
       "      <th>date</th>\n",
       "      <th>service</th>\n",
       "      <th>age</th>\n",
       "      <th>gender</th>\n",
       "      <th>race</th>\n",
       "      <th>ethnicity</th>\n",
       "      <th>marital</th>\n",
       "      <th>education</th>\n",
       "      <th>month</th>\n",
       "      <th>serv</th>\n",
       "      <th>age_bin</th>\n",
       "    </tr>\n",
       "  </thead>\n",
       "  <tbody>\n",
       "    <tr>\n",
       "      <th>0</th>\n",
       "      <td>1626</td>\n",
       "      <td>2021-01-31</td>\n",
       "      <td>Children_Attending_Early_Childhood_Programs_Ma...</td>\n",
       "      <td>5</td>\n",
       "      <td>1~Male</td>\n",
       "      <td>1~White</td>\n",
       "      <td>99~Unknown</td>\n",
       "      <td>99~Unknown</td>\n",
       "      <td>9-12~High School (grade 9-12)</td>\n",
       "      <td>January</td>\n",
       "      <td>S01</td>\n",
       "      <td>0-9</td>\n",
       "    </tr>\n",
       "    <tr>\n",
       "      <th>1</th>\n",
       "      <td>1626</td>\n",
       "      <td>2021-02-28</td>\n",
       "      <td>Children_Attending_Early_Childhood_Programs_Ma...</td>\n",
       "      <td>5</td>\n",
       "      <td>1~Male</td>\n",
       "      <td>1~White</td>\n",
       "      <td>99~Unknown</td>\n",
       "      <td>99~Unknown</td>\n",
       "      <td>9-12~High School (grade 9-12)</td>\n",
       "      <td>February</td>\n",
       "      <td>S01</td>\n",
       "      <td>0-9</td>\n",
       "    </tr>\n",
       "    <tr>\n",
       "      <th>2</th>\n",
       "      <td>1626</td>\n",
       "      <td>2021-03-31</td>\n",
       "      <td>Children_Attending_Early_Childhood_Programs_Ma...</td>\n",
       "      <td>5</td>\n",
       "      <td>1~Male</td>\n",
       "      <td>1~White</td>\n",
       "      <td>99~Unknown</td>\n",
       "      <td>99~Unknown</td>\n",
       "      <td>9-12~High School (grade 9-12)</td>\n",
       "      <td>March</td>\n",
       "      <td>S01</td>\n",
       "      <td>0-9</td>\n",
       "    </tr>\n",
       "    <tr>\n",
       "      <th>3</th>\n",
       "      <td>1626</td>\n",
       "      <td>2021-04-30</td>\n",
       "      <td>Children_Attending_Early_Childhood_Programs_Ma...</td>\n",
       "      <td>5</td>\n",
       "      <td>1~Male</td>\n",
       "      <td>1~White</td>\n",
       "      <td>99~Unknown</td>\n",
       "      <td>99~Unknown</td>\n",
       "      <td>9-12~High School (grade 9-12)</td>\n",
       "      <td>April</td>\n",
       "      <td>S01</td>\n",
       "      <td>0-9</td>\n",
       "    </tr>\n",
       "    <tr>\n",
       "      <th>4</th>\n",
       "      <td>1626</td>\n",
       "      <td>2021-05-31</td>\n",
       "      <td>Children_Attending_Early_Childhood_Programs_Ma...</td>\n",
       "      <td>5</td>\n",
       "      <td>1~Male</td>\n",
       "      <td>1~White</td>\n",
       "      <td>99~Unknown</td>\n",
       "      <td>99~Unknown</td>\n",
       "      <td>9-12~High School (grade 9-12)</td>\n",
       "      <td>May</td>\n",
       "      <td>S01</td>\n",
       "      <td>0-9</td>\n",
       "    </tr>\n",
       "  </tbody>\n",
       "</table>\n",
       "</div>"
      ],
      "text/plain": [
       "     id       date                                            service  age  \\\n",
       "0  1626 2021-01-31  Children_Attending_Early_Childhood_Programs_Ma...    5   \n",
       "1  1626 2021-02-28  Children_Attending_Early_Childhood_Programs_Ma...    5   \n",
       "2  1626 2021-03-31  Children_Attending_Early_Childhood_Programs_Ma...    5   \n",
       "3  1626 2021-04-30  Children_Attending_Early_Childhood_Programs_Ma...    5   \n",
       "4  1626 2021-05-31  Children_Attending_Early_Childhood_Programs_Ma...    5   \n",
       "\n",
       "   gender     race   ethnicity     marital                      education  \\\n",
       "0  1~Male  1~White  99~Unknown  99~Unknown  9-12~High School (grade 9-12)   \n",
       "1  1~Male  1~White  99~Unknown  99~Unknown  9-12~High School (grade 9-12)   \n",
       "2  1~Male  1~White  99~Unknown  99~Unknown  9-12~High School (grade 9-12)   \n",
       "3  1~Male  1~White  99~Unknown  99~Unknown  9-12~High School (grade 9-12)   \n",
       "4  1~Male  1~White  99~Unknown  99~Unknown  9-12~High School (grade 9-12)   \n",
       "\n",
       "      month serv age_bin  \n",
       "0   January  S01     0-9  \n",
       "1  February  S01     0-9  \n",
       "2     March  S01     0-9  \n",
       "3     April  S01     0-9  \n",
       "4       May  S01     0-9  "
      ]
     },
     "execution_count": 203,
     "metadata": {},
     "output_type": "execute_result"
    }
   ],
   "source": [
    "df.head()"
   ]
  },
  {
   "cell_type": "code",
   "execution_count": 204,
   "metadata": {},
   "outputs": [
    {
     "data": {
      "text/html": [
       "<div>\n",
       "<style scoped>\n",
       "    .dataframe tbody tr th:only-of-type {\n",
       "        vertical-align: middle;\n",
       "    }\n",
       "\n",
       "    .dataframe tbody tr th {\n",
       "        vertical-align: top;\n",
       "    }\n",
       "\n",
       "    .dataframe thead th {\n",
       "        text-align: right;\n",
       "    }\n",
       "</style>\n",
       "<table border=\"1\" class=\"dataframe\">\n",
       "  <thead>\n",
       "    <tr style=\"text-align: right;\">\n",
       "      <th></th>\n",
       "      <th>id</th>\n",
       "      <th>num_service</th>\n",
       "      <th>distinct_service</th>\n",
       "      <th>first_date</th>\n",
       "      <th>last_date</th>\n",
       "      <th>num_month</th>\n",
       "      <th>distinct_month</th>\n",
       "      <th>age</th>\n",
       "      <th>gender</th>\n",
       "      <th>race</th>\n",
       "      <th>ethnicity</th>\n",
       "      <th>marital</th>\n",
       "      <th>education</th>\n",
       "      <th>serv</th>\n",
       "      <th>age_bin</th>\n",
       "    </tr>\n",
       "  </thead>\n",
       "  <tbody>\n",
       "    <tr>\n",
       "      <th>0</th>\n",
       "      <td>1</td>\n",
       "      <td>12</td>\n",
       "      <td>1</td>\n",
       "      <td>2021-01-31</td>\n",
       "      <td>2021-12-31</td>\n",
       "      <td>12</td>\n",
       "      <td>12</td>\n",
       "      <td>13</td>\n",
       "      <td>1~Male</td>\n",
       "      <td>99~Unknown</td>\n",
       "      <td>2~Not Hispanic/Latinx</td>\n",
       "      <td>99~Unknown</td>\n",
       "      <td>GED~High School Diploma/GED Completed</td>\n",
       "      <td>S12</td>\n",
       "      <td>10-19</td>\n",
       "    </tr>\n",
       "    <tr>\n",
       "      <th>12</th>\n",
       "      <td>2</td>\n",
       "      <td>1</td>\n",
       "      <td>1</td>\n",
       "      <td>2021-02-28</td>\n",
       "      <td>2021-02-28</td>\n",
       "      <td>1</td>\n",
       "      <td>1</td>\n",
       "      <td>70</td>\n",
       "      <td>2~Female</td>\n",
       "      <td>1~White</td>\n",
       "      <td>2~Not Hispanic/Latinx</td>\n",
       "      <td>2~Married</td>\n",
       "      <td>99~Unknown</td>\n",
       "      <td>S12</td>\n",
       "      <td>70-79</td>\n",
       "    </tr>\n",
       "    <tr>\n",
       "      <th>13</th>\n",
       "      <td>3</td>\n",
       "      <td>11</td>\n",
       "      <td>1</td>\n",
       "      <td>2021-02-28</td>\n",
       "      <td>2021-12-31</td>\n",
       "      <td>11</td>\n",
       "      <td>11</td>\n",
       "      <td>29</td>\n",
       "      <td>2~Female</td>\n",
       "      <td>1~White</td>\n",
       "      <td>2~Not Hispanic/Latinx</td>\n",
       "      <td>2~Married</td>\n",
       "      <td>9-12~High School (grade 9-12)</td>\n",
       "      <td>S12</td>\n",
       "      <td>20-29</td>\n",
       "    </tr>\n",
       "    <tr>\n",
       "      <th>24</th>\n",
       "      <td>4</td>\n",
       "      <td>4</td>\n",
       "      <td>1</td>\n",
       "      <td>2021-03-31</td>\n",
       "      <td>2021-12-31</td>\n",
       "      <td>4</td>\n",
       "      <td>4</td>\n",
       "      <td>4</td>\n",
       "      <td>2~Female</td>\n",
       "      <td>1~White</td>\n",
       "      <td>2~Not Hispanic/Latinx</td>\n",
       "      <td>1~Single-Never Married</td>\n",
       "      <td>9-12~High School (grade 9-12)</td>\n",
       "      <td>S12</td>\n",
       "      <td>0-9</td>\n",
       "    </tr>\n",
       "    <tr>\n",
       "      <th>28</th>\n",
       "      <td>5</td>\n",
       "      <td>12</td>\n",
       "      <td>1</td>\n",
       "      <td>2021-01-31</td>\n",
       "      <td>2021-12-31</td>\n",
       "      <td>12</td>\n",
       "      <td>12</td>\n",
       "      <td>40</td>\n",
       "      <td>1~Male</td>\n",
       "      <td>2~Black/African American</td>\n",
       "      <td>2~Not Hispanic/Latinx</td>\n",
       "      <td>2~Married</td>\n",
       "      <td>UNDERGRAD~Some College</td>\n",
       "      <td>S12</td>\n",
       "      <td>40-49</td>\n",
       "    </tr>\n",
       "  </tbody>\n",
       "</table>\n",
       "</div>"
      ],
      "text/plain": [
       "   id  num_service  distinct_service first_date  last_date  num_month  \\\n",
       "0   1           12                 1 2021-01-31 2021-12-31         12   \n",
       "12  2            1                 1 2021-02-28 2021-02-28          1   \n",
       "13  3           11                 1 2021-02-28 2021-12-31         11   \n",
       "24  4            4                 1 2021-03-31 2021-12-31          4   \n",
       "28  5           12                 1 2021-01-31 2021-12-31         12   \n",
       "\n",
       "    distinct_month  age    gender                      race  \\\n",
       "0               12   13    1~Male                99~Unknown   \n",
       "12               1   70  2~Female                   1~White   \n",
       "13              11   29  2~Female                   1~White   \n",
       "24               4    4  2~Female                   1~White   \n",
       "28              12   40    1~Male  2~Black/African American   \n",
       "\n",
       "                ethnicity                 marital  \\\n",
       "0   2~Not Hispanic/Latinx              99~Unknown   \n",
       "12  2~Not Hispanic/Latinx               2~Married   \n",
       "13  2~Not Hispanic/Latinx               2~Married   \n",
       "24  2~Not Hispanic/Latinx  1~Single-Never Married   \n",
       "28  2~Not Hispanic/Latinx               2~Married   \n",
       "\n",
       "                                education serv age_bin  \n",
       "0   GED~High School Diploma/GED Completed  S12   10-19  \n",
       "12                             99~Unknown  S12   70-79  \n",
       "13          9-12~High School (grade 9-12)  S12   20-29  \n",
       "24          9-12~High School (grade 9-12)  S12     0-9  \n",
       "28                 UNDERGRAD~Some College  S12   40-49  "
      ]
     },
     "execution_count": 204,
     "metadata": {},
     "output_type": "execute_result"
    }
   ],
   "source": [
    "recipient.head()"
   ]
  },
  {
   "cell_type": "markdown",
   "metadata": {},
   "source": [
    "---\n",
    "---"
   ]
  },
  {
   "cell_type": "markdown",
   "metadata": {},
   "source": [
    "## **In Class Exercises**"
   ]
  },
  {
   "cell_type": "markdown",
   "metadata": {},
   "source": [
    "### ***Tuesday, September 10, 2024***"
   ]
  },
  {
   "cell_type": "markdown",
   "metadata": {},
   "source": [
    "### Exercise 1: How many recipients receive services every month in the year? "
   ]
  },
  {
   "cell_type": "code",
   "execution_count": 205,
   "metadata": {},
   "outputs": [
    {
     "data": {
      "text/plain": [
       "id                  421900\n",
       "num_service         421900\n",
       "distinct_service    421900\n",
       "first_date          421900\n",
       "last_date           421900\n",
       "num_month           421900\n",
       "distinct_month      421900\n",
       "age                 421900\n",
       "gender              421900\n",
       "race                421900\n",
       "ethnicity           421900\n",
       "marital             421900\n",
       "education           421900\n",
       "serv                421900\n",
       "age_bin             421900\n",
       "dtype: int64"
      ]
     },
     "execution_count": 205,
     "metadata": {},
     "output_type": "execute_result"
    }
   ],
   "source": [
    "recipient.query(\"distinct_month == 12 and num_service > 0\").count()"
   ]
  },
  {
   "cell_type": "markdown",
   "metadata": {},
   "source": [
    "We see that **421,900** recipients receive at least 1 service in every month."
   ]
  },
  {
   "cell_type": "markdown",
   "metadata": {},
   "source": [
    "### Exercise 2: What is the average number of services a recipient use? "
   ]
  },
  {
   "cell_type": "code",
   "execution_count": 206,
   "metadata": {},
   "outputs": [
    {
     "data": {
      "text/plain": [
       "13.331111523251261"
      ]
     },
     "execution_count": 206,
     "metadata": {},
     "output_type": "execute_result"
    }
   ],
   "source": [
    "recipient['num_service'].mean()"
   ]
  },
  {
   "cell_type": "markdown",
   "metadata": {},
   "source": [
    "Recipients use, on average, **13.331** services"
   ]
  },
  {
   "cell_type": "markdown",
   "metadata": {},
   "source": [
    "### Exercise 3: If we remove the recipients who uses only one service in the year, what are the answers to the above questions?"
   ]
  },
  {
   "cell_type": "code",
   "execution_count": 207,
   "metadata": {},
   "outputs": [
    {
     "data": {
      "text/html": [
       "<div>\n",
       "<style scoped>\n",
       "    .dataframe tbody tr th:only-of-type {\n",
       "        vertical-align: middle;\n",
       "    }\n",
       "\n",
       "    .dataframe tbody tr th {\n",
       "        vertical-align: top;\n",
       "    }\n",
       "\n",
       "    .dataframe thead th {\n",
       "        text-align: right;\n",
       "    }\n",
       "</style>\n",
       "<table border=\"1\" class=\"dataframe\">\n",
       "  <thead>\n",
       "    <tr style=\"text-align: right;\">\n",
       "      <th></th>\n",
       "      <th>index</th>\n",
       "      <th>id</th>\n",
       "      <th>num_service</th>\n",
       "      <th>distinct_service</th>\n",
       "      <th>first_date</th>\n",
       "      <th>last_date</th>\n",
       "      <th>num_month</th>\n",
       "      <th>distinct_month</th>\n",
       "      <th>age</th>\n",
       "      <th>gender</th>\n",
       "      <th>race</th>\n",
       "      <th>ethnicity</th>\n",
       "      <th>marital</th>\n",
       "      <th>education</th>\n",
       "      <th>serv</th>\n",
       "      <th>age_bin</th>\n",
       "    </tr>\n",
       "  </thead>\n",
       "  <tbody>\n",
       "    <tr>\n",
       "      <th>0</th>\n",
       "      <td>0</td>\n",
       "      <td>1</td>\n",
       "      <td>12</td>\n",
       "      <td>1</td>\n",
       "      <td>2021-01-31</td>\n",
       "      <td>2021-12-31</td>\n",
       "      <td>12</td>\n",
       "      <td>12</td>\n",
       "      <td>13</td>\n",
       "      <td>1~Male</td>\n",
       "      <td>99~Unknown</td>\n",
       "      <td>2~Not Hispanic/Latinx</td>\n",
       "      <td>99~Unknown</td>\n",
       "      <td>GED~High School Diploma/GED Completed</td>\n",
       "      <td>S12</td>\n",
       "      <td>10-19</td>\n",
       "    </tr>\n",
       "    <tr>\n",
       "      <th>1</th>\n",
       "      <td>13</td>\n",
       "      <td>3</td>\n",
       "      <td>11</td>\n",
       "      <td>1</td>\n",
       "      <td>2021-02-28</td>\n",
       "      <td>2021-12-31</td>\n",
       "      <td>11</td>\n",
       "      <td>11</td>\n",
       "      <td>29</td>\n",
       "      <td>2~Female</td>\n",
       "      <td>1~White</td>\n",
       "      <td>2~Not Hispanic/Latinx</td>\n",
       "      <td>2~Married</td>\n",
       "      <td>9-12~High School (grade 9-12)</td>\n",
       "      <td>S12</td>\n",
       "      <td>20-29</td>\n",
       "    </tr>\n",
       "    <tr>\n",
       "      <th>2</th>\n",
       "      <td>24</td>\n",
       "      <td>4</td>\n",
       "      <td>4</td>\n",
       "      <td>1</td>\n",
       "      <td>2021-03-31</td>\n",
       "      <td>2021-12-31</td>\n",
       "      <td>4</td>\n",
       "      <td>4</td>\n",
       "      <td>4</td>\n",
       "      <td>2~Female</td>\n",
       "      <td>1~White</td>\n",
       "      <td>2~Not Hispanic/Latinx</td>\n",
       "      <td>1~Single-Never Married</td>\n",
       "      <td>9-12~High School (grade 9-12)</td>\n",
       "      <td>S12</td>\n",
       "      <td>0-9</td>\n",
       "    </tr>\n",
       "    <tr>\n",
       "      <th>3</th>\n",
       "      <td>28</td>\n",
       "      <td>5</td>\n",
       "      <td>12</td>\n",
       "      <td>1</td>\n",
       "      <td>2021-01-31</td>\n",
       "      <td>2021-12-31</td>\n",
       "      <td>12</td>\n",
       "      <td>12</td>\n",
       "      <td>40</td>\n",
       "      <td>1~Male</td>\n",
       "      <td>2~Black/African American</td>\n",
       "      <td>2~Not Hispanic/Latinx</td>\n",
       "      <td>2~Married</td>\n",
       "      <td>UNDERGRAD~Some College</td>\n",
       "      <td>S12</td>\n",
       "      <td>40-49</td>\n",
       "    </tr>\n",
       "    <tr>\n",
       "      <th>4</th>\n",
       "      <td>40</td>\n",
       "      <td>6</td>\n",
       "      <td>24</td>\n",
       "      <td>3</td>\n",
       "      <td>2021-01-31</td>\n",
       "      <td>2021-12-31</td>\n",
       "      <td>24</td>\n",
       "      <td>12</td>\n",
       "      <td>71</td>\n",
       "      <td>2~Female</td>\n",
       "      <td>2~Black/African American</td>\n",
       "      <td>2~Not Hispanic/Latinx</td>\n",
       "      <td>1~Single-Never Married</td>\n",
       "      <td>99~Unknown</td>\n",
       "      <td>S09</td>\n",
       "      <td>70-79</td>\n",
       "    </tr>\n",
       "  </tbody>\n",
       "</table>\n",
       "</div>"
      ],
      "text/plain": [
       "   index id  num_service  distinct_service first_date  last_date  num_month  \\\n",
       "0      0  1           12                 1 2021-01-31 2021-12-31         12   \n",
       "1     13  3           11                 1 2021-02-28 2021-12-31         11   \n",
       "2     24  4            4                 1 2021-03-31 2021-12-31          4   \n",
       "3     28  5           12                 1 2021-01-31 2021-12-31         12   \n",
       "4     40  6           24                 3 2021-01-31 2021-12-31         24   \n",
       "\n",
       "   distinct_month  age    gender                      race  \\\n",
       "0              12   13    1~Male                99~Unknown   \n",
       "1              11   29  2~Female                   1~White   \n",
       "2               4    4  2~Female                   1~White   \n",
       "3              12   40    1~Male  2~Black/African American   \n",
       "4              12   71  2~Female  2~Black/African American   \n",
       "\n",
       "               ethnicity                 marital  \\\n",
       "0  2~Not Hispanic/Latinx              99~Unknown   \n",
       "1  2~Not Hispanic/Latinx               2~Married   \n",
       "2  2~Not Hispanic/Latinx  1~Single-Never Married   \n",
       "3  2~Not Hispanic/Latinx               2~Married   \n",
       "4  2~Not Hispanic/Latinx  1~Single-Never Married   \n",
       "\n",
       "                               education serv age_bin  \n",
       "0  GED~High School Diploma/GED Completed  S12   10-19  \n",
       "1          9-12~High School (grade 9-12)  S12   20-29  \n",
       "2          9-12~High School (grade 9-12)  S12     0-9  \n",
       "3                 UNDERGRAD~Some College  S12   40-49  \n",
       "4                             99~Unknown  S09   70-79  "
      ]
     },
     "execution_count": 207,
     "metadata": {},
     "output_type": "execute_result"
    }
   ],
   "source": [
    "recipient_more_than_one = recipient.query(\"num_service != 1\").reset_index()\n",
    "recipient_more_than_one.head()"
   ]
  },
  {
   "cell_type": "code",
   "execution_count": 208,
   "metadata": {},
   "outputs": [
    {
     "data": {
      "text/plain": [
       "index               421900\n",
       "id                  421900\n",
       "num_service         421900\n",
       "distinct_service    421900\n",
       "first_date          421900\n",
       "last_date           421900\n",
       "num_month           421900\n",
       "distinct_month      421900\n",
       "age                 421900\n",
       "gender              421900\n",
       "race                421900\n",
       "ethnicity           421900\n",
       "marital             421900\n",
       "education           421900\n",
       "serv                421900\n",
       "age_bin             421900\n",
       "dtype: int64"
      ]
     },
     "execution_count": 208,
     "metadata": {},
     "output_type": "execute_result"
    }
   ],
   "source": [
    "recipient_more_than_one.query(\"distinct_month == 12 and num_service > 0\").count()"
   ]
  },
  {
   "cell_type": "markdown",
   "metadata": {},
   "source": [
    "There are still **421,900** recipients who receive services every month, which makes sense because if they receive service every month, then they would have more than 1 service in the year and would not have been dropped."
   ]
  },
  {
   "cell_type": "code",
   "execution_count": 209,
   "metadata": {},
   "outputs": [
    {
     "data": {
      "text/plain": [
       "13.631203741194396"
      ]
     },
     "execution_count": 209,
     "metadata": {},
     "output_type": "execute_result"
    }
   ],
   "source": [
    "recipient_more_than_one['num_service'].mean()"
   ]
  },
  {
   "cell_type": "markdown",
   "metadata": {},
   "source": [
    "The mean jumped slightly to **13.631** services per recipient when we ignore the recipients who only received 1 service."
   ]
  },
  {
   "cell_type": "markdown",
   "metadata": {},
   "source": [
    "### Exercise 4: From all the plots, can we conclude that there is little difference in the number of services used between different age/gender/race groups?"
   ]
  },
  {
   "cell_type": "markdown",
   "metadata": {},
   "source": [
    "---"
   ]
  },
  {
   "cell_type": "markdown",
   "metadata": {},
   "source": [
    "### ***Thursday, September 12, 2024***"
   ]
  },
  {
   "cell_type": "markdown",
   "metadata": {},
   "source": [
    "### Exercise 1: Build you own module of helper functions, store in file, and import into your main notebook for use"
   ]
  },
  {
   "cell_type": "code",
   "execution_count": 210,
   "metadata": {},
   "outputs": [],
   "source": [
    "script_directory = '/Users/joshwinnes/Library/Mobile Documents/com~apple~CloudDocs/Wheaton College/fall 2024/topics in data science/Math485/packages'\n",
    "sys.path.append(script_directory)\n",
    "\n",
    "import week2_util\n",
    "from week2_util import *"
   ]
  },
  {
   "cell_type": "code",
   "execution_count": 211,
   "metadata": {},
   "outputs": [],
   "source": [
    "def get_sum_associated_servs(cohort_services):\n",
    "    \n",
    "    df_temp_cohort = cohort_services.groupby([\"id\",\"serv\"]).agg(\n",
    "    num_serv = ('service', 'nunique') # this will be 1 or 0, \"service\" is categorical \n",
    "    ).reset_index()\n",
    "\n",
    "    df_serv_cohort = df_temp_cohort.pivot_table(\n",
    "    values='num_serv', \n",
    "    index=[\"id\"], columns=\"serv\", aggfunc=np.sum\n",
    "    ).reset_index()\n",
    "\n",
    "    list_cohort_servs = pd.DataFrame(df_serv_cohort.iloc[:,1:22].sum())\n",
    "    list_cohort_servs.columns = ['count']\n",
    "    return list_cohort_servs"
   ]
  },
  {
   "cell_type": "markdown",
   "metadata": {},
   "source": [
    "### Exercise 2: Think about the behavior cohorts\n",
    "- can we conclude that income services combined with other services helps recipients reduce their reliance on income support overtime?\n",
    "- does the conclusion make sense? i.e., can the conclusions be reasonably explained by cross validation with other data view? \n",
    " "
   ]
  },
  {
   "cell_type": "markdown",
   "metadata": {},
   "source": [
    "Honestly, I don't think that we can conclude that income services combined with other services helps recipients reduce their reliance on income support over time because it looks like the n"
   ]
  },
  {
   "cell_type": "markdown",
   "metadata": {},
   "source": [
    "### Exercise 3: Check out pandas.crosstab https://pandas.pydata.org/docs/reference/api/pandas.crosstab.html#pandas.crosstab , see if you can prodce a table with service as row and race and gender as columns "
   ]
  },
  {
   "cell_type": "code",
   "execution_count": null,
   "metadata": {},
   "outputs": [],
   "source": []
  },
  {
   "cell_type": "markdown",
   "metadata": {},
   "source": [
    "---\n",
    "---"
   ]
  },
  {
   "cell_type": "markdown",
   "metadata": {},
   "source": [
    "## **Homework**"
   ]
  },
  {
   "cell_type": "markdown",
   "metadata": {},
   "source": [
    "### Exercise 1\n",
    "- Choose a pair or multiple behavior cohorts of recipients based on a set of behavior criteria that you think may be of importance (to the works done at DHS)\n",
    "    - e.g., recipients who received mental health service (S14) vs. those who did not\n",
    "    - e.g., recipients who received mental health service AND income support vs. those who received mental health support only (or the other way around) etc. \n"
   ]
  },
  {
   "cell_type": "code",
   "execution_count": 212,
   "metadata": {},
   "outputs": [
    {
     "name": "stdout",
     "output_type": "stream",
     "text": [
      "Children_Attending_Early_Childhood_Programs_Managed_by_DHS\n",
      "Children_in_Care\n",
      "Children_Receiving_Child_Welfare_Services\n",
      "Children_Receiving_DHS_Funded_Out_of_School_Programs\n",
      "Children_Receiving_Early_Intervention_Services\n",
      "Families_Receiving_Child_Welfare_Services\n",
      "Homeless_Population\n",
      "Homicides\n",
      "Individuals_Receiving_DHS_Services\n",
      "Individuals_Receiving_Family_Strengthening_Programs\n",
      "Individuals_Receiving_Homelessness_and_Housing_Services\n",
      "Individuals_Receiving_Income_Supports\n",
      "Individuals_Receiving_Intellectual_Disability_Services\n",
      "Individuals_Receiving_Mental_Health_Services\n",
      "Individuals_Receiving_Substance_Use_Disorder_Services\n",
      "Involuntary_Commitments\n",
      "Jail_Population\n",
      "Mental_Health_Crises\n",
      "Older_Adults_Receiving_Services\n",
      "Overdoses\n",
      "Parents_Receiving_Child_Welfare_Services\n",
      "Suicides\n"
     ]
    }
   ],
   "source": [
    "for i in df['service'].unique(): print(i)"
   ]
  },
  {
   "cell_type": "markdown",
   "metadata": {},
   "source": [
    "Based on the options listed above, I want to investigate children receiving S02 and S18."
   ]
  },
  {
   "cell_type": "code",
   "execution_count": 213,
   "metadata": {},
   "outputs": [
    {
     "data": {
      "text/plain": [
       "{'Children_Attending_Early_Childhood_Programs_Managed_by_DHS': 'S01',\n",
       " 'Children_in_Care': 'S02',\n",
       " 'Children_Receiving_Child_Welfare_Services': 'S03',\n",
       " 'Children_Receiving_DHS_Funded_Out_of_School_Programs': 'S04',\n",
       " 'Children_Receiving_Early_Intervention_Services': 'S05',\n",
       " 'Families_Receiving_Child_Welfare_Services': 'S06',\n",
       " 'Homeless_Population': 'S07',\n",
       " 'Homicides': 'S08',\n",
       " 'Individuals_Receiving_DHS_Services': 'S09',\n",
       " 'Individuals_Receiving_Family_Strengthening_Programs': 'S10',\n",
       " 'Individuals_Receiving_Homelessness_and_Housing_Services': 'S11',\n",
       " 'Individuals_Receiving_Income_Supports': 'S12',\n",
       " 'Individuals_Receiving_Intellectual_Disability_Services': 'S13',\n",
       " 'Individuals_Receiving_Mental_Health_Services': 'S14',\n",
       " 'Individuals_Receiving_Substance_Use_Disorder_Services': 'S15',\n",
       " 'Involuntary_Commitments': 'S16',\n",
       " 'Jail_Population': 'S17',\n",
       " 'Mental_Health_Crises': 'S18',\n",
       " 'Older_Adults_Receiving_Services': 'S19',\n",
       " 'Overdoses': 'S20',\n",
       " 'Parents_Receiving_Child_Welfare_Services': 'S21',\n",
       " 'Suicides': 'S22'}"
      ]
     },
     "execution_count": 213,
     "metadata": {},
     "output_type": "execute_result"
    }
   ],
   "source": [
    "service_map"
   ]
  },
  {
   "cell_type": "code",
   "execution_count": 214,
   "metadata": {},
   "outputs": [
    {
     "data": {
      "text/html": [
       "<div>\n",
       "<style scoped>\n",
       "    .dataframe tbody tr th:only-of-type {\n",
       "        vertical-align: middle;\n",
       "    }\n",
       "\n",
       "    .dataframe tbody tr th {\n",
       "        vertical-align: top;\n",
       "    }\n",
       "\n",
       "    .dataframe thead th {\n",
       "        text-align: right;\n",
       "    }\n",
       "</style>\n",
       "<table border=\"1\" class=\"dataframe\">\n",
       "  <thead>\n",
       "    <tr style=\"text-align: right;\">\n",
       "      <th></th>\n",
       "      <th>id</th>\n",
       "      <th>date</th>\n",
       "      <th>service</th>\n",
       "      <th>age</th>\n",
       "      <th>gender</th>\n",
       "      <th>race</th>\n",
       "      <th>ethnicity</th>\n",
       "      <th>marital</th>\n",
       "      <th>education</th>\n",
       "      <th>month</th>\n",
       "      <th>serv</th>\n",
       "      <th>age_bin</th>\n",
       "    </tr>\n",
       "  </thead>\n",
       "  <tbody>\n",
       "    <tr>\n",
       "      <th>0</th>\n",
       "      <td>1626</td>\n",
       "      <td>2021-01-31</td>\n",
       "      <td>Children_Attending_Early_Childhood_Programs_Ma...</td>\n",
       "      <td>5</td>\n",
       "      <td>1~Male</td>\n",
       "      <td>1~White</td>\n",
       "      <td>99~Unknown</td>\n",
       "      <td>99~Unknown</td>\n",
       "      <td>9-12~High School (grade 9-12)</td>\n",
       "      <td>January</td>\n",
       "      <td>S01</td>\n",
       "      <td>0-9</td>\n",
       "    </tr>\n",
       "    <tr>\n",
       "      <th>1</th>\n",
       "      <td>1626</td>\n",
       "      <td>2021-02-28</td>\n",
       "      <td>Children_Attending_Early_Childhood_Programs_Ma...</td>\n",
       "      <td>5</td>\n",
       "      <td>1~Male</td>\n",
       "      <td>1~White</td>\n",
       "      <td>99~Unknown</td>\n",
       "      <td>99~Unknown</td>\n",
       "      <td>9-12~High School (grade 9-12)</td>\n",
       "      <td>February</td>\n",
       "      <td>S01</td>\n",
       "      <td>0-9</td>\n",
       "    </tr>\n",
       "    <tr>\n",
       "      <th>2</th>\n",
       "      <td>1626</td>\n",
       "      <td>2021-03-31</td>\n",
       "      <td>Children_Attending_Early_Childhood_Programs_Ma...</td>\n",
       "      <td>5</td>\n",
       "      <td>1~Male</td>\n",
       "      <td>1~White</td>\n",
       "      <td>99~Unknown</td>\n",
       "      <td>99~Unknown</td>\n",
       "      <td>9-12~High School (grade 9-12)</td>\n",
       "      <td>March</td>\n",
       "      <td>S01</td>\n",
       "      <td>0-9</td>\n",
       "    </tr>\n",
       "    <tr>\n",
       "      <th>3</th>\n",
       "      <td>1626</td>\n",
       "      <td>2021-04-30</td>\n",
       "      <td>Children_Attending_Early_Childhood_Programs_Ma...</td>\n",
       "      <td>5</td>\n",
       "      <td>1~Male</td>\n",
       "      <td>1~White</td>\n",
       "      <td>99~Unknown</td>\n",
       "      <td>99~Unknown</td>\n",
       "      <td>9-12~High School (grade 9-12)</td>\n",
       "      <td>April</td>\n",
       "      <td>S01</td>\n",
       "      <td>0-9</td>\n",
       "    </tr>\n",
       "    <tr>\n",
       "      <th>4</th>\n",
       "      <td>1626</td>\n",
       "      <td>2021-05-31</td>\n",
       "      <td>Children_Attending_Early_Childhood_Programs_Ma...</td>\n",
       "      <td>5</td>\n",
       "      <td>1~Male</td>\n",
       "      <td>1~White</td>\n",
       "      <td>99~Unknown</td>\n",
       "      <td>99~Unknown</td>\n",
       "      <td>9-12~High School (grade 9-12)</td>\n",
       "      <td>May</td>\n",
       "      <td>S01</td>\n",
       "      <td>0-9</td>\n",
       "    </tr>\n",
       "  </tbody>\n",
       "</table>\n",
       "</div>"
      ],
      "text/plain": [
       "     id       date                                            service  age  \\\n",
       "0  1626 2021-01-31  Children_Attending_Early_Childhood_Programs_Ma...    5   \n",
       "1  1626 2021-02-28  Children_Attending_Early_Childhood_Programs_Ma...    5   \n",
       "2  1626 2021-03-31  Children_Attending_Early_Childhood_Programs_Ma...    5   \n",
       "3  1626 2021-04-30  Children_Attending_Early_Childhood_Programs_Ma...    5   \n",
       "4  1626 2021-05-31  Children_Attending_Early_Childhood_Programs_Ma...    5   \n",
       "\n",
       "   gender     race   ethnicity     marital                      education  \\\n",
       "0  1~Male  1~White  99~Unknown  99~Unknown  9-12~High School (grade 9-12)   \n",
       "1  1~Male  1~White  99~Unknown  99~Unknown  9-12~High School (grade 9-12)   \n",
       "2  1~Male  1~White  99~Unknown  99~Unknown  9-12~High School (grade 9-12)   \n",
       "3  1~Male  1~White  99~Unknown  99~Unknown  9-12~High School (grade 9-12)   \n",
       "4  1~Male  1~White  99~Unknown  99~Unknown  9-12~High School (grade 9-12)   \n",
       "\n",
       "      month serv age_bin  \n",
       "0   January  S01     0-9  \n",
       "1  February  S01     0-9  \n",
       "2     March  S01     0-9  \n",
       "3     April  S01     0-9  \n",
       "4       May  S01     0-9  "
      ]
     },
     "execution_count": 214,
     "metadata": {},
     "output_type": "execute_result"
    }
   ],
   "source": [
    "df.head()"
   ]
  },
  {
   "cell_type": "code",
   "execution_count": 215,
   "metadata": {},
   "outputs": [],
   "source": [
    "id_S02 = list(df.query(\"serv == 'S02'\").id.drop_duplicates())\n",
    "id_S18 = list(df.query(\"serv == 'S18'\").id.drop_duplicates())\n",
    "\n",
    "id_S02_and_S18 = list(set(id_S02) & set(id_218))\n",
    "id_S02_only = set(id_S02).difference(set(id_S02_and_S18))\n",
    "id_S18_only = set(id_S18).difference(set(id_S02_and_S18))\n"
   ]
  },
  {
   "cell_type": "markdown",
   "metadata": {},
   "source": [
    "verify that the split didn't leave anyone behind"
   ]
  },
  {
   "cell_type": "code",
   "execution_count": 216,
   "metadata": {},
   "outputs": [
    {
     "name": "stdout",
     "output_type": "stream",
     "text": [
      "7245\n",
      "7245\n",
      "all S18 accounted for\n",
      "2237\n",
      "2237\n",
      "all S02 accounted for\n"
     ]
    }
   ],
   "source": [
    "print(len(id_S18))\n",
    "print(len(id_S02_and_S18)+len(id_S18_only))\n",
    "print('all S18 accounted for')\n",
    "\n",
    "print(len(id_S02))\n",
    "print(len(id_S02_and_S18)+len(id_S02_only))\n",
    "print('all S02 accounted for')"
   ]
  },
  {
   "cell_type": "code",
   "execution_count": 217,
   "metadata": {},
   "outputs": [],
   "source": [
    "cohort_S02_only_services = df[df['id'].isin(id_S02_only)]\n",
    "cohort_S02_and_S18_services = df[df['id'].isin(id_S02_and_S18)]\n",
    "cohort_S18_only_services = df[df['id'].isin(id_S18_only)]"
   ]
  },
  {
   "cell_type": "code",
   "execution_count": 218,
   "metadata": {},
   "outputs": [
    {
     "name": "stderr",
     "output_type": "stream",
     "text": [
      "/Users/joshwinnes/Library/Mobile Documents/com~apple~CloudDocs/Wheaton College/fall 2024/topics in data science/Math485/packages/dhs_util.py:42: FutureWarning: The default of observed=False is deprecated and will be changed to True in a future version of pandas. Pass observed=False to retain current behavior or observed=True to adopt the future default and silence this warning.\n",
      "  recipient = df.groupby(df['id'].cat.remove_unused_categories()).agg(\n",
      "/Users/joshwinnes/Library/Mobile Documents/com~apple~CloudDocs/Wheaton College/fall 2024/topics in data science/Math485/packages/dhs_util.py:42: FutureWarning: The default of observed=False is deprecated and will be changed to True in a future version of pandas. Pass observed=False to retain current behavior or observed=True to adopt the future default and silence this warning.\n",
      "  recipient = df.groupby(df['id'].cat.remove_unused_categories()).agg(\n",
      "/Users/joshwinnes/Library/Mobile Documents/com~apple~CloudDocs/Wheaton College/fall 2024/topics in data science/Math485/packages/dhs_util.py:42: FutureWarning: The default of observed=False is deprecated and will be changed to True in a future version of pandas. Pass observed=False to retain current behavior or observed=True to adopt the future default and silence this warning.\n",
      "  recipient = df.groupby(df['id'].cat.remove_unused_categories()).agg(\n"
     ]
    }
   ],
   "source": [
    "cohort_S02_only_recipients = get_recipient_attribute(cohort_S02_only_services)\n",
    "cohort_S02_and_S18_recipients = get_recipient_attribute(cohort_S02_and_S18_services)\n",
    "cohort_S18_only_recipients = get_recipient_attribute(cohort_S18_only_services)"
   ]
  },
  {
   "cell_type": "markdown",
   "metadata": {},
   "source": [
    "**Peek the cohorts**"
   ]
  },
  {
   "cell_type": "code",
   "execution_count": 219,
   "metadata": {},
   "outputs": [
    {
     "data": {
      "text/html": [
       "<div>\n",
       "<style scoped>\n",
       "    .dataframe tbody tr th:only-of-type {\n",
       "        vertical-align: middle;\n",
       "    }\n",
       "\n",
       "    .dataframe tbody tr th {\n",
       "        vertical-align: top;\n",
       "    }\n",
       "\n",
       "    .dataframe thead th {\n",
       "        text-align: right;\n",
       "    }\n",
       "</style>\n",
       "<table border=\"1\" class=\"dataframe\">\n",
       "  <thead>\n",
       "    <tr style=\"text-align: right;\">\n",
       "      <th></th>\n",
       "      <th>id</th>\n",
       "      <th>num_service</th>\n",
       "      <th>distinct_service</th>\n",
       "      <th>first_date</th>\n",
       "      <th>last_date</th>\n",
       "      <th>num_month</th>\n",
       "      <th>distinct_month</th>\n",
       "      <th>age</th>\n",
       "      <th>gender</th>\n",
       "      <th>race</th>\n",
       "      <th>ethnicity</th>\n",
       "      <th>marital</th>\n",
       "      <th>education</th>\n",
       "      <th>serv</th>\n",
       "      <th>age_bin</th>\n",
       "    </tr>\n",
       "  </thead>\n",
       "  <tbody>\n",
       "    <tr>\n",
       "      <th>0</th>\n",
       "      <td>263</td>\n",
       "      <td>38</td>\n",
       "      <td>5</td>\n",
       "      <td>2021-01-31</td>\n",
       "      <td>2021-12-31</td>\n",
       "      <td>38</td>\n",
       "      <td>12</td>\n",
       "      <td>9</td>\n",
       "      <td>1~Male</td>\n",
       "      <td>1~White</td>\n",
       "      <td>2~Not Hispanic/Latinx</td>\n",
       "      <td>1~Single-Never Married</td>\n",
       "      <td>9-12~High School (grade 9-12)</td>\n",
       "      <td>S09</td>\n",
       "      <td>0-9</td>\n",
       "    </tr>\n",
       "    <tr>\n",
       "      <th>38</th>\n",
       "      <td>349</td>\n",
       "      <td>50</td>\n",
       "      <td>6</td>\n",
       "      <td>2021-01-31</td>\n",
       "      <td>2021-12-31</td>\n",
       "      <td>50</td>\n",
       "      <td>12</td>\n",
       "      <td>38</td>\n",
       "      <td>2~Female</td>\n",
       "      <td>1~White</td>\n",
       "      <td>2~Not Hispanic/Latinx</td>\n",
       "      <td>1~Single-Never Married</td>\n",
       "      <td>UNDERGRAD~Some College</td>\n",
       "      <td>S09</td>\n",
       "      <td>30-39</td>\n",
       "    </tr>\n",
       "    <tr>\n",
       "      <th>88</th>\n",
       "      <td>376</td>\n",
       "      <td>31</td>\n",
       "      <td>6</td>\n",
       "      <td>2021-01-31</td>\n",
       "      <td>2021-12-31</td>\n",
       "      <td>31</td>\n",
       "      <td>12</td>\n",
       "      <td>31</td>\n",
       "      <td>2~Female</td>\n",
       "      <td>2~Black/African American</td>\n",
       "      <td>2~Not Hispanic/Latinx</td>\n",
       "      <td>2~Married</td>\n",
       "      <td>9-12~High School (grade 9-12)</td>\n",
       "      <td>S09</td>\n",
       "      <td>30-39</td>\n",
       "    </tr>\n",
       "    <tr>\n",
       "      <th>119</th>\n",
       "      <td>381</td>\n",
       "      <td>34</td>\n",
       "      <td>4</td>\n",
       "      <td>2021-01-31</td>\n",
       "      <td>2021-12-31</td>\n",
       "      <td>34</td>\n",
       "      <td>12</td>\n",
       "      <td>62</td>\n",
       "      <td>2~Female</td>\n",
       "      <td>2~Black/African American</td>\n",
       "      <td>2~Not Hispanic/Latinx</td>\n",
       "      <td>2~Married</td>\n",
       "      <td>GED~High School Diploma/GED Completed</td>\n",
       "      <td>S09</td>\n",
       "      <td>60-69</td>\n",
       "    </tr>\n",
       "    <tr>\n",
       "      <th>153</th>\n",
       "      <td>395</td>\n",
       "      <td>46</td>\n",
       "      <td>5</td>\n",
       "      <td>2021-01-31</td>\n",
       "      <td>2021-12-31</td>\n",
       "      <td>46</td>\n",
       "      <td>12</td>\n",
       "      <td>27</td>\n",
       "      <td>1~Male</td>\n",
       "      <td>1~White</td>\n",
       "      <td>2~Not Hispanic/Latinx</td>\n",
       "      <td>1~Single-Never Married</td>\n",
       "      <td>9-12~High School (grade 9-12)</td>\n",
       "      <td>S09</td>\n",
       "      <td>20-29</td>\n",
       "    </tr>\n",
       "  </tbody>\n",
       "</table>\n",
       "</div>"
      ],
      "text/plain": [
       "      id  num_service  distinct_service first_date  last_date  num_month  \\\n",
       "0    263           38                 5 2021-01-31 2021-12-31         38   \n",
       "38   349           50                 6 2021-01-31 2021-12-31         50   \n",
       "88   376           31                 6 2021-01-31 2021-12-31         31   \n",
       "119  381           34                 4 2021-01-31 2021-12-31         34   \n",
       "153  395           46                 5 2021-01-31 2021-12-31         46   \n",
       "\n",
       "     distinct_month  age    gender                      race  \\\n",
       "0                12    9    1~Male                   1~White   \n",
       "38               12   38  2~Female                   1~White   \n",
       "88               12   31  2~Female  2~Black/African American   \n",
       "119              12   62  2~Female  2~Black/African American   \n",
       "153              12   27    1~Male                   1~White   \n",
       "\n",
       "                 ethnicity                 marital  \\\n",
       "0    2~Not Hispanic/Latinx  1~Single-Never Married   \n",
       "38   2~Not Hispanic/Latinx  1~Single-Never Married   \n",
       "88   2~Not Hispanic/Latinx               2~Married   \n",
       "119  2~Not Hispanic/Latinx               2~Married   \n",
       "153  2~Not Hispanic/Latinx  1~Single-Never Married   \n",
       "\n",
       "                                 education serv age_bin  \n",
       "0            9-12~High School (grade 9-12)  S09     0-9  \n",
       "38                  UNDERGRAD~Some College  S09   30-39  \n",
       "88           9-12~High School (grade 9-12)  S09   30-39  \n",
       "119  GED~High School Diploma/GED Completed  S09   60-69  \n",
       "153          9-12~High School (grade 9-12)  S09   20-29  "
      ]
     },
     "execution_count": 219,
     "metadata": {},
     "output_type": "execute_result"
    }
   ],
   "source": [
    "cohort_S18_only_recipients.head()"
   ]
  },
  {
   "cell_type": "code",
   "execution_count": 220,
   "metadata": {},
   "outputs": [
    {
     "data": {
      "text/html": [
       "<div>\n",
       "<style scoped>\n",
       "    .dataframe tbody tr th:only-of-type {\n",
       "        vertical-align: middle;\n",
       "    }\n",
       "\n",
       "    .dataframe tbody tr th {\n",
       "        vertical-align: top;\n",
       "    }\n",
       "\n",
       "    .dataframe thead th {\n",
       "        text-align: right;\n",
       "    }\n",
       "</style>\n",
       "<table border=\"1\" class=\"dataframe\">\n",
       "  <thead>\n",
       "    <tr style=\"text-align: right;\">\n",
       "      <th></th>\n",
       "      <th>id</th>\n",
       "      <th>num_service</th>\n",
       "      <th>distinct_service</th>\n",
       "      <th>first_date</th>\n",
       "      <th>last_date</th>\n",
       "      <th>num_month</th>\n",
       "      <th>distinct_month</th>\n",
       "      <th>age</th>\n",
       "      <th>gender</th>\n",
       "      <th>race</th>\n",
       "      <th>ethnicity</th>\n",
       "      <th>marital</th>\n",
       "      <th>education</th>\n",
       "      <th>serv</th>\n",
       "      <th>age_bin</th>\n",
       "    </tr>\n",
       "  </thead>\n",
       "  <tbody>\n",
       "    <tr>\n",
       "      <th>0</th>\n",
       "      <td>639</td>\n",
       "      <td>61</td>\n",
       "      <td>6</td>\n",
       "      <td>2021-01-31</td>\n",
       "      <td>2021-12-31</td>\n",
       "      <td>61</td>\n",
       "      <td>12</td>\n",
       "      <td>16</td>\n",
       "      <td>2~Female</td>\n",
       "      <td>2~Black/African American</td>\n",
       "      <td>2~Not Hispanic/Latinx</td>\n",
       "      <td>99~Unknown</td>\n",
       "      <td>9-12~High School (grade 9-12)</td>\n",
       "      <td>S02</td>\n",
       "      <td>10-19</td>\n",
       "    </tr>\n",
       "    <tr>\n",
       "      <th>61</th>\n",
       "      <td>3283</td>\n",
       "      <td>46</td>\n",
       "      <td>7</td>\n",
       "      <td>2021-01-31</td>\n",
       "      <td>2021-12-31</td>\n",
       "      <td>46</td>\n",
       "      <td>12</td>\n",
       "      <td>15</td>\n",
       "      <td>1~Male</td>\n",
       "      <td>2~Black/African American</td>\n",
       "      <td>2~Not Hispanic/Latinx</td>\n",
       "      <td>1~Single-Never Married</td>\n",
       "      <td>99~Unknown</td>\n",
       "      <td>S02</td>\n",
       "      <td>10-19</td>\n",
       "    </tr>\n",
       "    <tr>\n",
       "      <th>107</th>\n",
       "      <td>3891</td>\n",
       "      <td>53</td>\n",
       "      <td>7</td>\n",
       "      <td>2021-01-31</td>\n",
       "      <td>2021-12-31</td>\n",
       "      <td>53</td>\n",
       "      <td>12</td>\n",
       "      <td>15</td>\n",
       "      <td>2~Female</td>\n",
       "      <td>2~Black/African American</td>\n",
       "      <td>2~Not Hispanic/Latinx</td>\n",
       "      <td>99~Unknown</td>\n",
       "      <td>GED~High School Diploma/GED Completed</td>\n",
       "      <td>S02</td>\n",
       "      <td>10-19</td>\n",
       "    </tr>\n",
       "    <tr>\n",
       "      <th>160</th>\n",
       "      <td>7863</td>\n",
       "      <td>54</td>\n",
       "      <td>6</td>\n",
       "      <td>2021-01-31</td>\n",
       "      <td>2021-12-31</td>\n",
       "      <td>54</td>\n",
       "      <td>12</td>\n",
       "      <td>13</td>\n",
       "      <td>1~Male</td>\n",
       "      <td>2~Black/African American</td>\n",
       "      <td>2~Not Hispanic/Latinx</td>\n",
       "      <td>99~Unknown</td>\n",
       "      <td>9-12~High School (grade 9-12)</td>\n",
       "      <td>S02</td>\n",
       "      <td>10-19</td>\n",
       "    </tr>\n",
       "    <tr>\n",
       "      <th>214</th>\n",
       "      <td>8544</td>\n",
       "      <td>42</td>\n",
       "      <td>6</td>\n",
       "      <td>2021-01-31</td>\n",
       "      <td>2021-12-31</td>\n",
       "      <td>42</td>\n",
       "      <td>12</td>\n",
       "      <td>9</td>\n",
       "      <td>2~Female</td>\n",
       "      <td>2~Black/African American</td>\n",
       "      <td>2~Not Hispanic/Latinx</td>\n",
       "      <td>1~Single-Never Married</td>\n",
       "      <td>99~Unknown</td>\n",
       "      <td>S02</td>\n",
       "      <td>0-9</td>\n",
       "    </tr>\n",
       "  </tbody>\n",
       "</table>\n",
       "</div>"
      ],
      "text/plain": [
       "       id  num_service  distinct_service first_date  last_date  num_month  \\\n",
       "0     639           61                 6 2021-01-31 2021-12-31         61   \n",
       "61   3283           46                 7 2021-01-31 2021-12-31         46   \n",
       "107  3891           53                 7 2021-01-31 2021-12-31         53   \n",
       "160  7863           54                 6 2021-01-31 2021-12-31         54   \n",
       "214  8544           42                 6 2021-01-31 2021-12-31         42   \n",
       "\n",
       "     distinct_month  age    gender                      race  \\\n",
       "0                12   16  2~Female  2~Black/African American   \n",
       "61               12   15    1~Male  2~Black/African American   \n",
       "107              12   15  2~Female  2~Black/African American   \n",
       "160              12   13    1~Male  2~Black/African American   \n",
       "214              12    9  2~Female  2~Black/African American   \n",
       "\n",
       "                 ethnicity                 marital  \\\n",
       "0    2~Not Hispanic/Latinx              99~Unknown   \n",
       "61   2~Not Hispanic/Latinx  1~Single-Never Married   \n",
       "107  2~Not Hispanic/Latinx              99~Unknown   \n",
       "160  2~Not Hispanic/Latinx              99~Unknown   \n",
       "214  2~Not Hispanic/Latinx  1~Single-Never Married   \n",
       "\n",
       "                                 education serv age_bin  \n",
       "0            9-12~High School (grade 9-12)  S02   10-19  \n",
       "61                              99~Unknown  S02   10-19  \n",
       "107  GED~High School Diploma/GED Completed  S02   10-19  \n",
       "160          9-12~High School (grade 9-12)  S02   10-19  \n",
       "214                             99~Unknown  S02     0-9  "
      ]
     },
     "execution_count": 220,
     "metadata": {},
     "output_type": "execute_result"
    }
   ],
   "source": [
    "cohort_S02_and_S18_recipients.head()"
   ]
  },
  {
   "cell_type": "code",
   "execution_count": 221,
   "metadata": {},
   "outputs": [
    {
     "data": {
      "text/html": [
       "<div>\n",
       "<style scoped>\n",
       "    .dataframe tbody tr th:only-of-type {\n",
       "        vertical-align: middle;\n",
       "    }\n",
       "\n",
       "    .dataframe tbody tr th {\n",
       "        vertical-align: top;\n",
       "    }\n",
       "\n",
       "    .dataframe thead th {\n",
       "        text-align: right;\n",
       "    }\n",
       "</style>\n",
       "<table border=\"1\" class=\"dataframe\">\n",
       "  <thead>\n",
       "    <tr style=\"text-align: right;\">\n",
       "      <th></th>\n",
       "      <th>id</th>\n",
       "      <th>num_service</th>\n",
       "      <th>distinct_service</th>\n",
       "      <th>first_date</th>\n",
       "      <th>last_date</th>\n",
       "      <th>num_month</th>\n",
       "      <th>distinct_month</th>\n",
       "      <th>age</th>\n",
       "      <th>gender</th>\n",
       "      <th>race</th>\n",
       "      <th>ethnicity</th>\n",
       "      <th>marital</th>\n",
       "      <th>education</th>\n",
       "      <th>serv</th>\n",
       "      <th>age_bin</th>\n",
       "    </tr>\n",
       "  </thead>\n",
       "  <tbody>\n",
       "    <tr>\n",
       "      <th>0</th>\n",
       "      <td>263</td>\n",
       "      <td>38</td>\n",
       "      <td>5</td>\n",
       "      <td>2021-01-31</td>\n",
       "      <td>2021-12-31</td>\n",
       "      <td>38</td>\n",
       "      <td>12</td>\n",
       "      <td>9</td>\n",
       "      <td>1~Male</td>\n",
       "      <td>1~White</td>\n",
       "      <td>2~Not Hispanic/Latinx</td>\n",
       "      <td>1~Single-Never Married</td>\n",
       "      <td>9-12~High School (grade 9-12)</td>\n",
       "      <td>S09</td>\n",
       "      <td>0-9</td>\n",
       "    </tr>\n",
       "    <tr>\n",
       "      <th>38</th>\n",
       "      <td>349</td>\n",
       "      <td>50</td>\n",
       "      <td>6</td>\n",
       "      <td>2021-01-31</td>\n",
       "      <td>2021-12-31</td>\n",
       "      <td>50</td>\n",
       "      <td>12</td>\n",
       "      <td>38</td>\n",
       "      <td>2~Female</td>\n",
       "      <td>1~White</td>\n",
       "      <td>2~Not Hispanic/Latinx</td>\n",
       "      <td>1~Single-Never Married</td>\n",
       "      <td>UNDERGRAD~Some College</td>\n",
       "      <td>S09</td>\n",
       "      <td>30-39</td>\n",
       "    </tr>\n",
       "    <tr>\n",
       "      <th>88</th>\n",
       "      <td>376</td>\n",
       "      <td>31</td>\n",
       "      <td>6</td>\n",
       "      <td>2021-01-31</td>\n",
       "      <td>2021-12-31</td>\n",
       "      <td>31</td>\n",
       "      <td>12</td>\n",
       "      <td>31</td>\n",
       "      <td>2~Female</td>\n",
       "      <td>2~Black/African American</td>\n",
       "      <td>2~Not Hispanic/Latinx</td>\n",
       "      <td>2~Married</td>\n",
       "      <td>9-12~High School (grade 9-12)</td>\n",
       "      <td>S09</td>\n",
       "      <td>30-39</td>\n",
       "    </tr>\n",
       "    <tr>\n",
       "      <th>119</th>\n",
       "      <td>381</td>\n",
       "      <td>34</td>\n",
       "      <td>4</td>\n",
       "      <td>2021-01-31</td>\n",
       "      <td>2021-12-31</td>\n",
       "      <td>34</td>\n",
       "      <td>12</td>\n",
       "      <td>62</td>\n",
       "      <td>2~Female</td>\n",
       "      <td>2~Black/African American</td>\n",
       "      <td>2~Not Hispanic/Latinx</td>\n",
       "      <td>2~Married</td>\n",
       "      <td>GED~High School Diploma/GED Completed</td>\n",
       "      <td>S09</td>\n",
       "      <td>60-69</td>\n",
       "    </tr>\n",
       "    <tr>\n",
       "      <th>153</th>\n",
       "      <td>395</td>\n",
       "      <td>46</td>\n",
       "      <td>5</td>\n",
       "      <td>2021-01-31</td>\n",
       "      <td>2021-12-31</td>\n",
       "      <td>46</td>\n",
       "      <td>12</td>\n",
       "      <td>27</td>\n",
       "      <td>1~Male</td>\n",
       "      <td>1~White</td>\n",
       "      <td>2~Not Hispanic/Latinx</td>\n",
       "      <td>1~Single-Never Married</td>\n",
       "      <td>9-12~High School (grade 9-12)</td>\n",
       "      <td>S09</td>\n",
       "      <td>20-29</td>\n",
       "    </tr>\n",
       "  </tbody>\n",
       "</table>\n",
       "</div>"
      ],
      "text/plain": [
       "      id  num_service  distinct_service first_date  last_date  num_month  \\\n",
       "0    263           38                 5 2021-01-31 2021-12-31         38   \n",
       "38   349           50                 6 2021-01-31 2021-12-31         50   \n",
       "88   376           31                 6 2021-01-31 2021-12-31         31   \n",
       "119  381           34                 4 2021-01-31 2021-12-31         34   \n",
       "153  395           46                 5 2021-01-31 2021-12-31         46   \n",
       "\n",
       "     distinct_month  age    gender                      race  \\\n",
       "0                12    9    1~Male                   1~White   \n",
       "38               12   38  2~Female                   1~White   \n",
       "88               12   31  2~Female  2~Black/African American   \n",
       "119              12   62  2~Female  2~Black/African American   \n",
       "153              12   27    1~Male                   1~White   \n",
       "\n",
       "                 ethnicity                 marital  \\\n",
       "0    2~Not Hispanic/Latinx  1~Single-Never Married   \n",
       "38   2~Not Hispanic/Latinx  1~Single-Never Married   \n",
       "88   2~Not Hispanic/Latinx               2~Married   \n",
       "119  2~Not Hispanic/Latinx               2~Married   \n",
       "153  2~Not Hispanic/Latinx  1~Single-Never Married   \n",
       "\n",
       "                                 education serv age_bin  \n",
       "0            9-12~High School (grade 9-12)  S09     0-9  \n",
       "38                  UNDERGRAD~Some College  S09   30-39  \n",
       "88           9-12~High School (grade 9-12)  S09   30-39  \n",
       "119  GED~High School Diploma/GED Completed  S09   60-69  \n",
       "153          9-12~High School (grade 9-12)  S09   20-29  "
      ]
     },
     "execution_count": 221,
     "metadata": {},
     "output_type": "execute_result"
    }
   ],
   "source": [
    "cohort_S18_only_recipients.head()"
   ]
  },
  {
   "cell_type": "markdown",
   "metadata": {},
   "source": [
    "**See how many services are used in conjunction with each cohort**"
   ]
  },
  {
   "cell_type": "code",
   "execution_count": 234,
   "metadata": {},
   "outputs": [
    {
     "name": "stderr",
     "output_type": "stream",
     "text": [
      "/var/folders/99/6591xgpn4sq1ypfgnrzy_7n80000gn/T/ipykernel_88204/308920222.py:3: FutureWarning: The default of observed=False is deprecated and will be changed to True in a future version of pandas. Pass observed=False to retain current behavior or observed=True to adopt the future default and silence this warning.\n",
      "  df_temp_cohort = cohort_services.groupby([\"id\",\"serv\"]).agg(\n",
      "/var/folders/99/6591xgpn4sq1ypfgnrzy_7n80000gn/T/ipykernel_88204/308920222.py:7: FutureWarning: The provided callable <function sum at 0x106808900> is currently using DataFrameGroupBy.sum. In a future version of pandas, the provided callable will be used directly. To keep current behavior pass the string \"sum\" instead.\n",
      "  df_serv_cohort = df_temp_cohort.pivot_table(\n"
     ]
    },
    {
     "data": {
      "text/plain": [
       "Text(0.5, 1.0, 'Recipients of S02 and another serivce, but not S18')"
      ]
     },
     "execution_count": 234,
     "metadata": {},
     "output_type": "execute_result"
    },
    {
     "data": {
      "image/png": "[encoded data removed]",
      "text/plain": [
       "<Figure size 1000x1000 with 1 Axes>"
      ]
     },
     "metadata": {},
     "output_type": "display_data"
    }
   ],
   "source": [
    "list_S02_servs = get_sum_associated_servs(cohort_S02_only_services)\n",
    "\n",
    "plt.figure(figsize=(10,10))\n",
    "sns.barplot(data=list_S02_servs, x=list_S02_servs.index,y='count', hue=list_S02_servs.index == 'S02')\n",
    "plt.xlabel('Service')\n",
    "plt.ylabel('Number of Recipients')\n",
    "plt.title('Recipients of S02 and another serivce, but not S18')"
   ]
  },
  {
   "cell_type": "code",
   "execution_count": 233,
   "metadata": {},
   "outputs": [
    {
     "name": "stderr",
     "output_type": "stream",
     "text": [
      "/var/folders/99/6591xgpn4sq1ypfgnrzy_7n80000gn/T/ipykernel_88204/308920222.py:3: FutureWarning: The default of observed=False is deprecated and will be changed to True in a future version of pandas. Pass observed=False to retain current behavior or observed=True to adopt the future default and silence this warning.\n",
      "  df_temp_cohort = cohort_services.groupby([\"id\",\"serv\"]).agg(\n",
      "/var/folders/99/6591xgpn4sq1ypfgnrzy_7n80000gn/T/ipykernel_88204/308920222.py:7: FutureWarning: The provided callable <function sum at 0x106808900> is currently using DataFrameGroupBy.sum. In a future version of pandas, the provided callable will be used directly. To keep current behavior pass the string \"sum\" instead.\n",
      "  df_serv_cohort = df_temp_cohort.pivot_table(\n"
     ]
    },
    {
     "data": {
      "text/plain": [
       "Text(0.5, 1.0, 'Recipients of S18 and another serivce, but not S02')"
      ]
     },
     "execution_count": 233,
     "metadata": {},
     "output_type": "execute_result"
    },
    {
     "data": {
      "image/png": "[encoded data removed]",
      "text/plain": [
       "<Figure size 1000x1000 with 1 Axes>"
      ]
     },
     "metadata": {},
     "output_type": "display_data"
    }
   ],
   "source": [
    "list_S18_servs = get_sum_associated_servs(cohort_S18_only_services)\n",
    "\n",
    "plt.figure(figsize=(10,10))\n",
    "sns.barplot(data=list_S18_servs, x=list_S18_servs.index,y='count', hue = list_S18_servs.index == 'S18')\n",
    "plt.xlabel('Service')\n",
    "plt.ylabel('Number of Recipients')\n",
    "plt.title('Recipients of S18 and another serivce, but not S02')"
   ]
  },
  {
   "cell_type": "code",
   "execution_count": 235,
   "metadata": {},
   "outputs": [
    {
     "name": "stderr",
     "output_type": "stream",
     "text": [
      "/var/folders/99/6591xgpn4sq1ypfgnrzy_7n80000gn/T/ipykernel_88204/308920222.py:3: FutureWarning: The default of observed=False is deprecated and will be changed to True in a future version of pandas. Pass observed=False to retain current behavior or observed=True to adopt the future default and silence this warning.\n",
      "  df_temp_cohort = cohort_services.groupby([\"id\",\"serv\"]).agg(\n",
      "/var/folders/99/6591xgpn4sq1ypfgnrzy_7n80000gn/T/ipykernel_88204/308920222.py:7: FutureWarning: The provided callable <function sum at 0x106808900> is currently using DataFrameGroupBy.sum. In a future version of pandas, the provided callable will be used directly. To keep current behavior pass the string \"sum\" instead.\n",
      "  df_serv_cohort = df_temp_cohort.pivot_table(\n"
     ]
    },
    {
     "data": {
      "text/plain": [
       "Text(0.5, 1.0, 'Recipients of other services in conjunction with S02 and S18')"
      ]
     },
     "execution_count": 235,
     "metadata": {},
     "output_type": "execute_result"
    },
    {
     "data": {
      "image/png": "[encoded data removed]",
      "text/plain": [
       "<Figure size 1000x1000 with 1 Axes>"
      ]
     },
     "metadata": {},
     "output_type": "display_data"
    }
   ],
   "source": [
    "list_S18andS02_servs = get_sum_associated_servs(cohort_S02_and_S18_services)\n",
    "\n",
    "plt.figure(figsize=(10,10))\n",
    "sns.barplot(data=list_S18andS02_servs, x=list_S18andS02_servs.index,y='count', hue = list_S18andS02_servs.index.isin(['S02', 'S18']))\n",
    "plt.xlabel('Service')\n",
    "plt.ylabel('Number of Recipients')\n",
    "plt.title('Recipients of other services in conjunction with S02 and S18')\n"
   ]
  },
  {
   "cell_type": "markdown",
   "metadata": {},
   "source": [
    "The visualizations show that there are some services that are common across each cohort. The first visualization shows that for recipients of S02 but not S18, S12 and S03 were far more common than other services. Similarly, the second visualization shows that the S09, S12, and S14 were common across the cohort of recipients of S18 but not S02. Not surprisingly, for recipients of S02 and S18, services S03, S09, S12, and S14 are all common. "
   ]
  }
 ],
 "metadata": {
  "kernelspec": {
   "display_name": "Python 3",
   "language": "python",
   "name": "python3"
  },
  "language_info": {
   "codemirror_mode": {
    "name": "ipython",
    "version": 3
   },
   "file_extension": ".py",
   "mimetype": "text/x-python",
   "name": "python",
   "nbconvert_exporter": "python",
   "pygments_lexer": "ipython3",
   "version": "3.12.1"
  },
  "orig_nbformat": 4
 },
 "nbformat": 4,
 "nbformat_minor": 2
}
