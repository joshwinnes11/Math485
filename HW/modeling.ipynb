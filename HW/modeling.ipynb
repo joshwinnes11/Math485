{
 "cells": [
  {
   "cell_type": "code",
   "execution_count": 8,
   "metadata": {},
   "outputs": [
    {
     "name": "stdout",
     "output_type": "stream",
     "text": [
      "0.1857118571185712\n"
     ]
    }
   ],
   "source": [
    "# monte carlo simulation\n",
    "# 25% chance of having a kid with blue eyes, what are the odds that you have three in a row out of 5 with blue eyes\n",
    "import numpy as np\n",
    "\n",
    "bet = []\n",
    "for k in range(1,100000):\n",
    "    b=[]\n",
    "    for i in range(1,6):\n",
    "        r = np.random.randint(0,2)\n",
    "        if r < 0.25:\n",
    "            b.append(1)\n",
    "        else:\n",
    "            b.append(0)\n",
    "    valid = [[1,1,1,0,0], [0,1,1,1,0], [0,0,1,1,1], [1,1,1,1,0],[0,1,1,1,1],[1,1,1,1,1]]\n",
    "    if b in valid:\n",
    "        bet.append(1)\n",
    "    else:\n",
    "        bet.append(0)\n",
    "\n",
    "print(np.mean(bet))\n",
    "    \n",
    "    \n",
    "    "
   ]
  },
  {
   "cell_type": "code",
   "execution_count": null,
   "metadata": {},
   "outputs": [],
   "source": []
  },
  {
   "cell_type": "code",
   "execution_count": null,
   "metadata": {},
   "outputs": [],
   "source": []
  }
 ],
 "metadata": {
  "kernelspec": {
   "display_name": "Python 3",
   "language": "python",
   "name": "python3"
  },
  "language_info": {
   "codemirror_mode": {
    "name": "ipython",
    "version": 3
   },
   "file_extension": ".py",
   "mimetype": "text/x-python",
   "name": "python",
   "nbconvert_exporter": "python",
   "pygments_lexer": "ipython3",
   "version": "3.12.1"
  },
  "orig_nbformat": 4
 },
 "nbformat": 4,
 "nbformat_minor": 2
}
